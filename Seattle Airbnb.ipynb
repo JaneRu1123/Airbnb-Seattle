{
 "cells": [
  {
   "cell_type": "markdown",
   "metadata": {},
   "source": [
    "# Project: Airbnb Seattle Analysis and Prediction\n",
    "\n",
    "In this project, I wanggle and analyze the open data from Airbnb Seattle to to answer the following 4 questions: \n",
    "\n",
    "\n",
    "1) How does the occupancy rate change during the record window?\n",
    "\n",
    "2) How does the price change during the record window?\n",
    "\n",
    "3) Are the trends of average price and occupancy rate the same?\n",
    "\n",
    "4) Using machine learning technique to predict the listing prices."
   ]
  },
  {
   "cell_type": "code",
   "execution_count": 1,
   "metadata": {},
   "outputs": [],
   "source": [
    "# import libraries\n",
    "import pandas as pd\n",
    "import numpy as np\n",
    "import matplotlib.pyplot as plt\n",
    "from sklearn.preprocessing import MinMaxScaler \n",
    "from sklearn.ensemble import RandomForestRegressor, GradientBoostingRegressor\n",
    "from sklearn.linear_model import LinearRegression\n",
    "import seaborn as sns\n",
    "from sklearn.model_selection import train_test_split, GridSearchCV\n",
    "from sklearn.metrics import r2_score, mean_squared_error\n",
    "%matplotlib inline"
   ]
  },
  {
   "cell_type": "markdown",
   "metadata": {},
   "source": [
    "## Step 0: Load the Data\n",
    "\n",
    "There are four files associated with this project (not including this one):\n",
    "\n",
    "- `listings.csv`\n",
    "- `calendar.csv`"
   ]
  },
  {
   "cell_type": "code",
   "execution_count": 2,
   "metadata": {},
   "outputs": [],
   "source": [
    "listings = pd.read_csv('listings.csv')\n",
    "calendar = pd.read_csv('calendar.csv')"
   ]
  },
  {
   "cell_type": "markdown",
   "metadata": {},
   "source": [
    "## Step 1: How does the occupancy rate change during the record window?\n",
    "\n",
    "### Step 1.1 : Preprocessing\n",
    "\n",
    "The infomation of the dataset **calendar** is checked. The dataframe  that describes the occupation state everyday is created from **calendar**. The data types of the features are corrected."
   ]
  },
  {
   "cell_type": "code",
   "execution_count": 3,
   "metadata": {},
   "outputs": [
    {
     "name": "stdout",
     "output_type": "stream",
     "text": [
      "<class 'pandas.core.frame.DataFrame'>\n",
      "RangeIndex: 1393570 entries, 0 to 1393569\n",
      "Data columns (total 4 columns):\n",
      "listing_id    1393570 non-null int64\n",
      "date          1393570 non-null object\n",
      "available     1393570 non-null object\n",
      "price         934542 non-null object\n",
      "dtypes: int64(1), object(3)\n",
      "memory usage: 42.5+ MB\n"
     ]
    }
   ],
   "source": [
    "# Check the structure of the data \n",
    "calendar.info()"
   ]
  },
  {
   "cell_type": "code",
   "execution_count": 4,
   "metadata": {},
   "outputs": [
    {
     "data": {
      "text/html": [
       "<div>\n",
       "<style scoped>\n",
       "    .dataframe tbody tr th:only-of-type {\n",
       "        vertical-align: middle;\n",
       "    }\n",
       "\n",
       "    .dataframe tbody tr th {\n",
       "        vertical-align: top;\n",
       "    }\n",
       "\n",
       "    .dataframe thead th {\n",
       "        text-align: right;\n",
       "    }\n",
       "</style>\n",
       "<table border=\"1\" class=\"dataframe\">\n",
       "  <thead>\n",
       "    <tr style=\"text-align: right;\">\n",
       "      <th></th>\n",
       "      <th>listing_id</th>\n",
       "      <th>date</th>\n",
       "      <th>available</th>\n",
       "      <th>price</th>\n",
       "    </tr>\n",
       "  </thead>\n",
       "  <tbody>\n",
       "    <tr>\n",
       "      <th>0</th>\n",
       "      <td>241032</td>\n",
       "      <td>2016-01-04</td>\n",
       "      <td>t</td>\n",
       "      <td>$85.00</td>\n",
       "    </tr>\n",
       "    <tr>\n",
       "      <th>1</th>\n",
       "      <td>241032</td>\n",
       "      <td>2016-01-05</td>\n",
       "      <td>t</td>\n",
       "      <td>$85.00</td>\n",
       "    </tr>\n",
       "    <tr>\n",
       "      <th>2</th>\n",
       "      <td>241032</td>\n",
       "      <td>2016-01-06</td>\n",
       "      <td>f</td>\n",
       "      <td>NaN</td>\n",
       "    </tr>\n",
       "    <tr>\n",
       "      <th>3</th>\n",
       "      <td>241032</td>\n",
       "      <td>2016-01-07</td>\n",
       "      <td>f</td>\n",
       "      <td>NaN</td>\n",
       "    </tr>\n",
       "    <tr>\n",
       "      <th>4</th>\n",
       "      <td>241032</td>\n",
       "      <td>2016-01-08</td>\n",
       "      <td>f</td>\n",
       "      <td>NaN</td>\n",
       "    </tr>\n",
       "  </tbody>\n",
       "</table>\n",
       "</div>"
      ],
      "text/plain": [
       "   listing_id        date available   price\n",
       "0      241032  2016-01-04         t  $85.00\n",
       "1      241032  2016-01-05         t  $85.00\n",
       "2      241032  2016-01-06         f     NaN\n",
       "3      241032  2016-01-07         f     NaN\n",
       "4      241032  2016-01-08         f     NaN"
      ]
     },
     "execution_count": 4,
     "metadata": {},
     "output_type": "execute_result"
    }
   ],
   "source": [
    "calendar.head()"
   ]
  },
  {
   "cell_type": "code",
   "execution_count": 5,
   "metadata": {},
   "outputs": [
    {
     "data": {
      "text/plain": [
       "listing_id      10208623\n",
       "date          2017-01-02\n",
       "available              f\n",
       "price                NaN\n",
       "Name: 1393569, dtype: object"
      ]
     },
     "execution_count": 5,
     "metadata": {},
     "output_type": "execute_result"
    }
   ],
   "source": [
    "calendar.iloc[-1,:]"
   ]
  },
  {
   "cell_type": "markdown",
   "metadata": {},
   "source": [
    "**Observation:** There are some missing values in the column 'price'. When the listing is not available (occupied), the price is NaN. The record window of the dataset is from 2016-01-04 to 2017-01-02. The avaiability of each listing is represented by strings 't' and 'f' instread of boolean variables. \n",
    "\n",
    "**Action:** Replace the strings by boolean variables. Since we care about the occupancy rate, the state should be converted from 'available' to 'occupied'. "
   ]
  },
  {
   "cell_type": "code",
   "execution_count": 6,
   "metadata": {},
   "outputs": [
    {
     "name": "stderr",
     "output_type": "stream",
     "text": [
      "C:\\ProgramData\\Anaconda3\\lib\\site-packages\\ipykernel_launcher.py:3: SettingWithCopyWarning: \n",
      "A value is trying to be set on a copy of a slice from a DataFrame.\n",
      "Try using .loc[row_indexer,col_indexer] = value instead\n",
      "\n",
      "See the caveats in the documentation: http://pandas.pydata.org/pandas-docs/stable/indexing.html#indexing-view-versus-copy\n",
      "  This is separate from the ipykernel package so we can avoid doing imports until\n",
      "C:\\ProgramData\\Anaconda3\\lib\\site-packages\\ipykernel_launcher.py:4: SettingWithCopyWarning: \n",
      "A value is trying to be set on a copy of a slice from a DataFrame\n",
      "\n",
      "See the caveats in the documentation: http://pandas.pydata.org/pandas-docs/stable/indexing.html#indexing-view-versus-copy\n",
      "  after removing the cwd from sys.path.\n"
     ]
    }
   ],
   "source": [
    "# create new dataframe\n",
    "occupy =  calendar[['date','available']]\n",
    "occupy['occupied'] = occupy['available'].apply(lambda x: x== 'f')\n",
    "occupy.drop('available',axis=1, inplace=True)\n"
   ]
  },
  {
   "cell_type": "code",
   "execution_count": 7,
   "metadata": {},
   "outputs": [
    {
     "name": "stderr",
     "output_type": "stream",
     "text": [
      "C:\\ProgramData\\Anaconda3\\lib\\site-packages\\ipykernel_launcher.py:4: SettingWithCopyWarning: \n",
      "A value is trying to be set on a copy of a slice from a DataFrame\n",
      "\n",
      "See the caveats in the documentation: http://pandas.pydata.org/pandas-docs/stable/indexing.html#indexing-view-versus-copy\n",
      "  after removing the cwd from sys.path.\n"
     ]
    }
   ],
   "source": [
    "#change the data type of date\n",
    "occupy.set_index('date')\n",
    "occupy.index = pd.to_datetime(occupy.date)\n",
    "occupy.drop('date',axis=1, inplace=True)"
   ]
  },
  {
   "cell_type": "code",
   "execution_count": 8,
   "metadata": {},
   "outputs": [
    {
     "data": {
      "text/html": [
       "<div>\n",
       "<style scoped>\n",
       "    .dataframe tbody tr th:only-of-type {\n",
       "        vertical-align: middle;\n",
       "    }\n",
       "\n",
       "    .dataframe tbody tr th {\n",
       "        vertical-align: top;\n",
       "    }\n",
       "\n",
       "    .dataframe thead th {\n",
       "        text-align: right;\n",
       "    }\n",
       "</style>\n",
       "<table border=\"1\" class=\"dataframe\">\n",
       "  <thead>\n",
       "    <tr style=\"text-align: right;\">\n",
       "      <th></th>\n",
       "      <th>occupied</th>\n",
       "    </tr>\n",
       "    <tr>\n",
       "      <th>date</th>\n",
       "      <th></th>\n",
       "    </tr>\n",
       "  </thead>\n",
       "  <tbody>\n",
       "    <tr>\n",
       "      <th>2016-01-04</th>\n",
       "      <td>False</td>\n",
       "    </tr>\n",
       "    <tr>\n",
       "      <th>2016-01-05</th>\n",
       "      <td>False</td>\n",
       "    </tr>\n",
       "    <tr>\n",
       "      <th>2016-01-06</th>\n",
       "      <td>True</td>\n",
       "    </tr>\n",
       "    <tr>\n",
       "      <th>2016-01-07</th>\n",
       "      <td>True</td>\n",
       "    </tr>\n",
       "    <tr>\n",
       "      <th>2016-01-08</th>\n",
       "      <td>True</td>\n",
       "    </tr>\n",
       "  </tbody>\n",
       "</table>\n",
       "</div>"
      ],
      "text/plain": [
       "            occupied\n",
       "date                \n",
       "2016-01-04     False\n",
       "2016-01-05     False\n",
       "2016-01-06      True\n",
       "2016-01-07      True\n",
       "2016-01-08      True"
      ]
     },
     "execution_count": 8,
     "metadata": {},
     "output_type": "execute_result"
    }
   ],
   "source": [
    "# check the dataframe\n",
    "occupy.head()"
   ]
  },
  {
   "cell_type": "markdown",
   "metadata": {},
   "source": [
    "### Step 1.2: The amount of listings in each day\n",
    "\n",
    "Before the analsis of occupancy rate, the number of listings in each day is checked."
   ]
  },
  {
   "cell_type": "code",
   "execution_count": 9,
   "metadata": {
    "scrolled": true
   },
   "outputs": [
    {
     "data": {
      "image/png": "[encoded data removed]",
      "text/plain": [
       "<matplotlib.figure.Figure at 0x1ec336967f0>"
      ]
     },
     "metadata": {},
     "output_type": "display_data"
    }
   ],
   "source": [
    "supply = occupy.resample('D').count()\n",
    "plt.plot(supply['occupied']);"
   ]
  },
  {
   "cell_type": "code",
   "execution_count": 10,
   "metadata": {},
   "outputs": [
    {
     "data": {
      "text/html": [
       "<div>\n",
       "<style scoped>\n",
       "    .dataframe tbody tr th:only-of-type {\n",
       "        vertical-align: middle;\n",
       "    }\n",
       "\n",
       "    .dataframe tbody tr th {\n",
       "        vertical-align: top;\n",
       "    }\n",
       "\n",
       "    .dataframe thead th {\n",
       "        text-align: right;\n",
       "    }\n",
       "</style>\n",
       "<table border=\"1\" class=\"dataframe\">\n",
       "  <thead>\n",
       "    <tr style=\"text-align: right;\">\n",
       "      <th></th>\n",
       "      <th>occupied</th>\n",
       "    </tr>\n",
       "    <tr>\n",
       "      <th>date</th>\n",
       "      <th></th>\n",
       "    </tr>\n",
       "  </thead>\n",
       "  <tbody>\n",
       "    <tr>\n",
       "      <th>2016-01-04</th>\n",
       "      <td>3818</td>\n",
       "    </tr>\n",
       "    <tr>\n",
       "      <th>2016-01-05</th>\n",
       "      <td>3818</td>\n",
       "    </tr>\n",
       "    <tr>\n",
       "      <th>2016-01-06</th>\n",
       "      <td>3818</td>\n",
       "    </tr>\n",
       "    <tr>\n",
       "      <th>2016-01-07</th>\n",
       "      <td>3818</td>\n",
       "    </tr>\n",
       "    <tr>\n",
       "      <th>2016-01-08</th>\n",
       "      <td>3818</td>\n",
       "    </tr>\n",
       "  </tbody>\n",
       "</table>\n",
       "</div>"
      ],
      "text/plain": [
       "            occupied\n",
       "date                \n",
       "2016-01-04      3818\n",
       "2016-01-05      3818\n",
       "2016-01-06      3818\n",
       "2016-01-07      3818\n",
       "2016-01-08      3818"
      ]
     },
     "execution_count": 10,
     "metadata": {},
     "output_type": "execute_result"
    }
   ],
   "source": [
    "supply.head()"
   ]
  },
  {
   "cell_type": "markdown",
   "metadata": {},
   "source": [
    "**Observation:** The everyday number of listings is a constant. It implies that the dataset only contains a part of the data in seattle, which does not show the supply in the market. \n"
   ]
  },
  {
   "cell_type": "markdown",
   "metadata": {},
   "source": [
    "### Step 1.3: The trend of the occupancy rate"
   ]
  },
  {
   "cell_type": "code",
   "execution_count": 11,
   "metadata": {},
   "outputs": [
    {
     "data": {
      "image/png": "[encoded data removed]",
      "text/plain": [
       "<matplotlib.figure.Figure at 0x1ec3368f5f8>"
      ]
     },
     "metadata": {},
     "output_type": "display_data"
    }
   ],
   "source": [
    "#calculate the average occupancy rate everyweek\n",
    "occupied_r = occupy.resample('W').mean()\n",
    "#sketch the trend\n",
    "ax1 = plt.plot(occupied_r['occupied'], color = 'b')\n",
    "plt.ylabel('Occupancy rate', fontsize=12);"
   ]
  },
  {
   "cell_type": "markdown",
   "metadata": {},
   "source": [
    "**Observation:** The occupancy rate generally declines during 2016. It increases at the second quarter to a small extent but keeps dropping to the end of the year. The occupancy rate decreases from over 0.5 to around 0.25. "
   ]
  },
  {
   "cell_type": "markdown",
   "metadata": {},
   "source": [
    "## Step 2: How does the price change during the record window?\n",
    "\n",
    "### Step 2.1 : Preprocessing\n",
    "\n",
    "As mentioned in the last section, there are some missing values in price when the listing are not available. It makes sense that the price is not necessary to be showed when the listing is not available. Meanwhile, other available listings' prices indicate the market status. These missing values are all removed while the information is not lost. \n",
    "\n",
    "The original data type of price is not numeric which is converted in this section."
   ]
  },
  {
   "cell_type": "code",
   "execution_count": 12,
   "metadata": {},
   "outputs": [
    {
     "name": "stderr",
     "output_type": "stream",
     "text": [
      "C:\\ProgramData\\Anaconda3\\lib\\site-packages\\ipykernel_launcher.py:3: SettingWithCopyWarning: \n",
      "A value is trying to be set on a copy of a slice from a DataFrame\n",
      "\n",
      "See the caveats in the documentation: http://pandas.pydata.org/pandas-docs/stable/indexing.html#indexing-view-versus-copy\n",
      "  This is separate from the ipykernel package so we can avoid doing imports until\n",
      "C:\\ProgramData\\Anaconda3\\lib\\site-packages\\ipykernel_launcher.py:6: SettingWithCopyWarning: \n",
      "A value is trying to be set on a copy of a slice from a DataFrame.\n",
      "Try using .loc[row_indexer,col_indexer] = value instead\n",
      "\n",
      "See the caveats in the documentation: http://pandas.pydata.org/pandas-docs/stable/indexing.html#indexing-view-versus-copy\n",
      "  \n",
      "C:\\ProgramData\\Anaconda3\\lib\\site-packages\\ipykernel_launcher.py:7: SettingWithCopyWarning: \n",
      "A value is trying to be set on a copy of a slice from a DataFrame.\n",
      "Try using .loc[row_indexer,col_indexer] = value instead\n",
      "\n",
      "See the caveats in the documentation: http://pandas.pydata.org/pandas-docs/stable/indexing.html#indexing-view-versus-copy\n",
      "  import sys\n"
     ]
    },
    {
     "name": "stdout",
     "output_type": "stream",
     "text": [
      "<class 'pandas.core.frame.DataFrame'>\n",
      "DatetimeIndex: 934542 entries, 2016-01-04 to 2016-01-12\n",
      "Data columns (total 2 columns):\n",
      "listing_id    934542 non-null object\n",
      "price         934542 non-null float64\n",
      "dtypes: float64(1), object(1)\n",
      "memory usage: 21.4+ MB\n"
     ]
    },
    {
     "name": "stderr",
     "output_type": "stream",
     "text": [
      "C:\\ProgramData\\Anaconda3\\lib\\site-packages\\ipykernel_launcher.py:11: SettingWithCopyWarning: \n",
      "A value is trying to be set on a copy of a slice from a DataFrame\n",
      "\n",
      "See the caveats in the documentation: http://pandas.pydata.org/pandas-docs/stable/indexing.html#indexing-view-versus-copy\n",
      "  # This is added back by InteractiveShellApp.init_path()\n"
     ]
    }
   ],
   "source": [
    "#remove missing values\n",
    "calendar_clean = calendar.dropna()\n",
    "calendar_clean.drop(['available'],axis=1,inplace=True)\n",
    "\n",
    "#convert data type of price to numeric\n",
    "calendar_clean['price']=calendar_clean['price'].apply(lambda x: float(x.strip('$').replace(',','')))\n",
    "calendar_clean['listing_id']=calendar_clean['listing_id'].astype(str)\n",
    "\n",
    "#change the data type of date\n",
    "calendar_clean.index = pd.to_datetime(calendar_clean.date)\n",
    "calendar_clean.drop('date',axis = 1, inplace=True)\n",
    "\n",
    "#check the conversion\n",
    "calendar_clean.info()"
   ]
  },
  {
   "cell_type": "markdown",
   "metadata": {},
   "source": [
    "### Step 2.2: The trend of the price\n",
    "\n",
    "The average price everyweek is calculated and sketched."
   ]
  },
  {
   "cell_type": "code",
   "execution_count": 13,
   "metadata": {},
   "outputs": [
    {
     "data": {
      "image/png": "[encoded data removed]",
      "text/plain": [
       "<matplotlib.figure.Figure at 0x1ec2ef40da0>"
      ]
     },
     "metadata": {},
     "output_type": "display_data"
    }
   ],
   "source": [
    "#calculate the average price everyweek\n",
    "price_mean = calendar_clean.resample('W').mean()\n",
    "\n",
    "#sketch the trend\n",
    "ax2=plt.plot(price_mean, color = 'r')\n",
    "plt.ylabel('Price', fontsize=12);\n"
   ]
  },
  {
   "cell_type": "markdown",
   "metadata": {},
   "source": [
    "**Observation:** The average price first increases from around 120 to 150. Then, it fluctuates and falls suddenly after September. At the end of the year, the price is around 135.  "
   ]
  },
  {
   "cell_type": "markdown",
   "metadata": {},
   "source": [
    "## Step 3: Are the trends of average price and occupancy rate the same?\n",
    "In this section, the plots in the above sections are merged for clear observation and comparison."
   ]
  },
  {
   "cell_type": "code",
   "execution_count": 14,
   "metadata": {},
   "outputs": [
    {
     "data": {
      "image/png": "[encoded data removed]",
      "text/plain": [
       "<matplotlib.figure.Figure at 0x1ec3e245c88>"
      ]
     },
     "metadata": {},
     "output_type": "display_data"
    }
   ],
   "source": [
    "fig, axes1= plt.subplots()\n",
    "axes2 = axes1.twinx()\n",
    "axes1.plot(occupied_r['occupied'],'b')\n",
    "axes2.plot(price_mean, 'r')\n",
    "\n",
    "axes1.set_ylabel('Ocuppancy rate', color='b');\n",
    "axes2.set_ylabel('Price', color='r');\n",
    "\n",
    "axes1.tick_params(axis='y', colors='b')\n",
    "axes2.tick_params(axis='y', colors='r')"
   ]
  },
  {
   "cell_type": "markdown",
   "metadata": {},
   "source": [
    "**Observation:** Usually, when the occupancy rate is high, the renting cost is expensive. However, the trends of the occupancy rate and the price in Airbnb Seattle are not completely the same during 2016. In the first quater, the occupancy rate drops largely from over 0.5 to below 0.3, while the price increases with slight fluctuation. Then, The price keeps rising and reaches the peak in July. During this time, the occupancy rate slightly increases and remains stable from May to June then suddenly rises in July. For price, it remains the highest level around two months but sharply declines after September. The tendency of occupancy rate follows the similar step but it drops earlier. After the decrease, the price fluctuates at the level of 135. Although the price falls down, the occupancy rate does not recover. At the end of 2016, the occupancy rate drops to the bottom at 0.25. "
   ]
  },
  {
   "cell_type": "markdown",
   "metadata": {},
   "source": [
    "## Step 4: Predcting the price\n",
    "###   Step 4.1: Preprocessing\n",
    "####     step 4.1.1 remove missing values"
   ]
  },
  {
   "cell_type": "code",
   "execution_count": 15,
   "metadata": {},
   "outputs": [
    {
     "name": "stdout",
     "output_type": "stream",
     "text": [
      "<class 'pandas.core.frame.DataFrame'>\n",
      "RangeIndex: 3818 entries, 0 to 3817\n",
      "Data columns (total 92 columns):\n",
      "id                                  3818 non-null int64\n",
      "listing_url                         3818 non-null object\n",
      "scrape_id                           3818 non-null int64\n",
      "last_scraped                        3818 non-null object\n",
      "name                                3818 non-null object\n",
      "summary                             3641 non-null object\n",
      "space                               3249 non-null object\n",
      "description                         3818 non-null object\n",
      "experiences_offered                 3818 non-null object\n",
      "neighborhood_overview               2786 non-null object\n",
      "notes                               2212 non-null object\n",
      "transit                             2884 non-null object\n",
      "thumbnail_url                       3498 non-null object\n",
      "medium_url                          3498 non-null object\n",
      "picture_url                         3818 non-null object\n",
      "xl_picture_url                      3498 non-null object\n",
      "host_id                             3818 non-null int64\n",
      "host_url                            3818 non-null object\n",
      "host_name                           3816 non-null object\n",
      "host_since                          3816 non-null object\n",
      "host_location                       3810 non-null object\n",
      "host_about                          2959 non-null object\n",
      "host_response_time                  3295 non-null object\n",
      "host_response_rate                  3295 non-null object\n",
      "host_acceptance_rate                3045 non-null object\n",
      "host_is_superhost                   3816 non-null object\n",
      "host_thumbnail_url                  3816 non-null object\n",
      "host_picture_url                    3816 non-null object\n",
      "host_neighbourhood                  3518 non-null object\n",
      "host_listings_count                 3816 non-null float64\n",
      "host_total_listings_count           3816 non-null float64\n",
      "host_verifications                  3818 non-null object\n",
      "host_has_profile_pic                3816 non-null object\n",
      "host_identity_verified              3816 non-null object\n",
      "street                              3818 non-null object\n",
      "neighbourhood                       3402 non-null object\n",
      "neighbourhood_cleansed              3818 non-null object\n",
      "neighbourhood_group_cleansed        3818 non-null object\n",
      "city                                3818 non-null object\n",
      "state                               3818 non-null object\n",
      "zipcode                             3811 non-null object\n",
      "market                              3818 non-null object\n",
      "smart_location                      3818 non-null object\n",
      "country_code                        3818 non-null object\n",
      "country                             3818 non-null object\n",
      "latitude                            3818 non-null float64\n",
      "longitude                           3818 non-null float64\n",
      "is_location_exact                   3818 non-null object\n",
      "property_type                       3817 non-null object\n",
      "room_type                           3818 non-null object\n",
      "accommodates                        3818 non-null int64\n",
      "bathrooms                           3802 non-null float64\n",
      "bedrooms                            3812 non-null float64\n",
      "beds                                3817 non-null float64\n",
      "bed_type                            3818 non-null object\n",
      "amenities                           3818 non-null object\n",
      "square_feet                         97 non-null float64\n",
      "price                               3818 non-null object\n",
      "weekly_price                        2009 non-null object\n",
      "monthly_price                       1517 non-null object\n",
      "security_deposit                    1866 non-null object\n",
      "cleaning_fee                        2788 non-null object\n",
      "guests_included                     3818 non-null int64\n",
      "extra_people                        3818 non-null object\n",
      "minimum_nights                      3818 non-null int64\n",
      "maximum_nights                      3818 non-null int64\n",
      "calendar_updated                    3818 non-null object\n",
      "has_availability                    3818 non-null object\n",
      "availability_30                     3818 non-null int64\n",
      "availability_60                     3818 non-null int64\n",
      "availability_90                     3818 non-null int64\n",
      "availability_365                    3818 non-null int64\n",
      "calendar_last_scraped               3818 non-null object\n",
      "number_of_reviews                   3818 non-null int64\n",
      "first_review                        3191 non-null object\n",
      "last_review                         3191 non-null object\n",
      "review_scores_rating                3171 non-null float64\n",
      "review_scores_accuracy              3160 non-null float64\n",
      "review_scores_cleanliness           3165 non-null float64\n",
      "review_scores_checkin               3160 non-null float64\n",
      "review_scores_communication         3167 non-null float64\n",
      "review_scores_location              3163 non-null float64\n",
      "review_scores_value                 3162 non-null float64\n",
      "requires_license                    3818 non-null object\n",
      "license                             0 non-null float64\n",
      "jurisdiction_names                  3818 non-null object\n",
      "instant_bookable                    3818 non-null object\n",
      "cancellation_policy                 3818 non-null object\n",
      "require_guest_profile_picture       3818 non-null object\n",
      "require_guest_phone_verification    3818 non-null object\n",
      "calculated_host_listings_count      3818 non-null int64\n",
      "reviews_per_month                   3191 non-null float64\n",
      "dtypes: float64(17), int64(13), object(62)\n",
      "memory usage: 2.7+ MB\n"
     ]
    }
   ],
   "source": [
    "listings.info()"
   ]
  },
  {
   "cell_type": "markdown",
   "metadata": {},
   "source": [
    "**Obeservation:** Besides price, 91 features are recorded in this dataset. But not all of them are related to price.\n",
    "\n",
    "**Action:** Select the relevant features and create a new dataframe. "
   ]
  },
  {
   "cell_type": "code",
   "execution_count": 16,
   "metadata": {},
   "outputs": [],
   "source": [
    "#create new dataframe fro price predction\n",
    "df = listings[['host_response_time', 'host_response_rate', 'host_acceptance_rate', 'host_is_superhost', 'neighbourhood_group_cleansed', \n",
    "               'property_type', 'room_type', 'accommodates','bathrooms', 'bedrooms','beds','bed_type', 'square_feet','price', 'guests_included', 'number_of_reviews',\n",
    "              'review_scores_rating', 'review_scores_accuracy', 'review_scores_cleanliness', 'review_scores_checkin', 'review_scores_communication',\n",
    "              'review_scores_location', 'review_scores_value', 'instant_bookable', 'cancellation_policy', 'reviews_per_month']]"
   ]
  },
  {
   "cell_type": "code",
   "execution_count": 17,
   "metadata": {},
   "outputs": [],
   "source": [
    "def col_nan(df):\n",
    "    \"\"\"visualize the missing values propotion in each column.\n",
    "    df -- dataframe\n",
    "    \"\"\"\n",
    "    nan_prop = df.isnull().sum()/df.shape[0]\n",
    "    plt.figure(figsize=(10,6));\n",
    "    plt.bar(nan_prop.index,nan_prop);\n",
    "    plt.xticks(rotation='vertical');"
   ]
  },
  {
   "cell_type": "code",
   "execution_count": 18,
   "metadata": {},
   "outputs": [
    {
     "data": {
      "image/png": "[encoded data removed]",
      "text/plain": [
       "<matplotlib.figure.Figure at 0x1ec34afea20>"
      ]
     },
     "metadata": {},
     "output_type": "display_data"
    }
   ],
   "source": [
    "#check the proportion of the missing values in each column\n",
    "col_nan(df)"
   ]
  },
  {
   "cell_type": "code",
   "execution_count": 19,
   "metadata": {},
   "outputs": [],
   "source": [
    "def remove_nan(df):\n",
    "    \"\"\"remove the columns whose numbers of missing values are outliers.\n",
    "    df -- dataframe \n",
    "    \"\"\"\n",
    "    nan_prop = df.isnull().sum()/df.shape[0]\n",
    "    IQR = nan_prop.quantile(0.75) - nan_prop.quantile(0.25)\n",
    "    #remove the columns of which the misiing value proportion is outliers.\n",
    "    nan_prop = nan_prop[~(nan_prop > (nan_prop.quantile(0.75) + 1.5*IQR))]\n",
    "    cols = list(nan_prop.index)\n",
    "    df = df[df.columns.intersection(cols)]\n",
    "    #remove the residual missing values\n",
    "    df_wona = df.dropna()\n",
    "    return df_wona"
   ]
  },
  {
   "cell_type": "code",
   "execution_count": 20,
   "metadata": {},
   "outputs": [],
   "source": [
    "df_wona = remove_nan(df)"
   ]
  },
  {
   "cell_type": "code",
   "execution_count": 21,
   "metadata": {},
   "outputs": [
    {
     "name": "stdout",
     "output_type": "stream",
     "text": [
      "<class 'pandas.core.frame.DataFrame'>\n",
      "Int64Index: 2655 entries, 0 to 3814\n",
      "Data columns (total 25 columns):\n",
      "host_response_time              2655 non-null object\n",
      "host_response_rate              2655 non-null object\n",
      "host_acceptance_rate            2655 non-null object\n",
      "host_is_superhost               2655 non-null object\n",
      "neighbourhood_group_cleansed    2655 non-null object\n",
      "property_type                   2655 non-null object\n",
      "room_type                       2655 non-null object\n",
      "accommodates                    2655 non-null int64\n",
      "bathrooms                       2655 non-null float64\n",
      "bedrooms                        2655 non-null float64\n",
      "beds                            2655 non-null float64\n",
      "bed_type                        2655 non-null object\n",
      "price                           2655 non-null object\n",
      "guests_included                 2655 non-null int64\n",
      "number_of_reviews               2655 non-null int64\n",
      "review_scores_rating            2655 non-null float64\n",
      "review_scores_accuracy          2655 non-null float64\n",
      "review_scores_cleanliness       2655 non-null float64\n",
      "review_scores_checkin           2655 non-null float64\n",
      "review_scores_communication     2655 non-null float64\n",
      "review_scores_location          2655 non-null float64\n",
      "review_scores_value             2655 non-null float64\n",
      "instant_bookable                2655 non-null object\n",
      "cancellation_policy             2655 non-null object\n",
      "reviews_per_month               2655 non-null float64\n",
      "dtypes: float64(11), int64(3), object(11)\n",
      "memory usage: 539.3+ KB\n"
     ]
    }
   ],
   "source": [
    "#check the processed dataframe\n",
    "df_wona.info()"
   ]
  },
  {
   "cell_type": "markdown",
   "metadata": {},
   "source": [
    "**Observation:** All missing values have been removed. There are some nonnumerical features that should be further processed. However, some of them represent percentage, such as response rate and acceptance rate.  \n",
    "\n",
    "**Action:** Normalize the numerical features. Check the values of the nonnumerical features. "
   ]
  },
  {
   "cell_type": "markdown",
   "metadata": {},
   "source": [
    "#### step 4.1.2 Feature normalization"
   ]
  },
  {
   "cell_type": "code",
   "execution_count": 22,
   "metadata": {},
   "outputs": [
    {
     "data": {
      "image/png": "[encoded data removed]",
      "text/plain": [
       "<matplotlib.figure.Figure at 0x1ec34dc5518>"
      ]
     },
     "metadata": {},
     "output_type": "display_data"
    }
   ],
   "source": [
    "#select the numerical columns\n",
    "num_cols = df_wona.select_dtypes(exclude=['object']).columns\n",
    "df_num = df_wona[num_cols]\n",
    "#visualize the distribution of these features\n",
    "df_num.hist(figsize=(15,10));"
   ]
  },
  {
   "cell_type": "markdown",
   "metadata": {},
   "source": [
    "**Observation:** All the distributions are not Guassian distribution. Besides 'number_of_reviews', each feature contains the values of the same order of magnitude. \n",
    "\n",
    "**Action:** 'number_of_reviews' should be applied log-transfromation. Then, apply MinMaxScaler for normalization to all the numerical features."
   ]
  },
  {
   "cell_type": "code",
   "execution_count": 23,
   "metadata": {
    "scrolled": true
   },
   "outputs": [
    {
     "name": "stderr",
     "output_type": "stream",
     "text": [
      "C:\\ProgramData\\Anaconda3\\lib\\site-packages\\ipykernel_launcher.py:2: SettingWithCopyWarning: \n",
      "A value is trying to be set on a copy of a slice from a DataFrame.\n",
      "Try using .loc[row_indexer,col_indexer] = value instead\n",
      "\n",
      "See the caveats in the documentation: http://pandas.pydata.org/pandas-docs/stable/indexing.html#indexing-view-versus-copy\n",
      "  \n"
     ]
    }
   ],
   "source": [
    "#log-transformation\n",
    "df_num['number_of_reviews']=df_num['number_of_reviews'].apply(lambda x: np.log(x + 1))"
   ]
  },
  {
   "cell_type": "code",
   "execution_count": 24,
   "metadata": {},
   "outputs": [
    {
     "data": {
      "text/html": [
       "<div>\n",
       "<style scoped>\n",
       "    .dataframe tbody tr th:only-of-type {\n",
       "        vertical-align: middle;\n",
       "    }\n",
       "\n",
       "    .dataframe tbody tr th {\n",
       "        vertical-align: top;\n",
       "    }\n",
       "\n",
       "    .dataframe thead th {\n",
       "        text-align: right;\n",
       "    }\n",
       "</style>\n",
       "<table border=\"1\" class=\"dataframe\">\n",
       "  <thead>\n",
       "    <tr style=\"text-align: right;\">\n",
       "      <th></th>\n",
       "      <th>accommodates</th>\n",
       "      <th>bathrooms</th>\n",
       "      <th>bedrooms</th>\n",
       "      <th>beds</th>\n",
       "      <th>guests_included</th>\n",
       "      <th>number_of_reviews</th>\n",
       "      <th>review_scores_rating</th>\n",
       "      <th>review_scores_accuracy</th>\n",
       "      <th>review_scores_cleanliness</th>\n",
       "      <th>review_scores_checkin</th>\n",
       "      <th>review_scores_communication</th>\n",
       "      <th>review_scores_location</th>\n",
       "      <th>review_scores_value</th>\n",
       "      <th>reviews_per_month</th>\n",
       "    </tr>\n",
       "  </thead>\n",
       "  <tbody>\n",
       "    <tr>\n",
       "      <th>0</th>\n",
       "      <td>0.200000</td>\n",
       "      <td>0.1250</td>\n",
       "      <td>0.142857</td>\n",
       "      <td>0.000000</td>\n",
       "      <td>0.153846</td>\n",
       "      <td>0.849040</td>\n",
       "      <td>0.9375</td>\n",
       "      <td>1.0</td>\n",
       "      <td>1.0</td>\n",
       "      <td>1.0</td>\n",
       "      <td>1.0</td>\n",
       "      <td>0.833333</td>\n",
       "      <td>1.0</td>\n",
       "      <td>0.333333</td>\n",
       "    </tr>\n",
       "    <tr>\n",
       "      <th>1</th>\n",
       "      <td>0.200000</td>\n",
       "      <td>0.1250</td>\n",
       "      <td>0.142857</td>\n",
       "      <td>0.000000</td>\n",
       "      <td>0.076923</td>\n",
       "      <td>0.565073</td>\n",
       "      <td>0.9500</td>\n",
       "      <td>1.0</td>\n",
       "      <td>1.0</td>\n",
       "      <td>1.0</td>\n",
       "      <td>1.0</td>\n",
       "      <td>1.000000</td>\n",
       "      <td>1.0</td>\n",
       "      <td>0.119637</td>\n",
       "    </tr>\n",
       "    <tr>\n",
       "      <th>2</th>\n",
       "      <td>0.666667</td>\n",
       "      <td>0.5625</td>\n",
       "      <td>0.714286</td>\n",
       "      <td>0.428571</td>\n",
       "      <td>0.769231</td>\n",
       "      <td>0.429854</td>\n",
       "      <td>0.9625</td>\n",
       "      <td>1.0</td>\n",
       "      <td>1.0</td>\n",
       "      <td>1.0</td>\n",
       "      <td>1.0</td>\n",
       "      <td>1.000000</td>\n",
       "      <td>1.0</td>\n",
       "      <td>0.092409</td>\n",
       "    </tr>\n",
       "    <tr>\n",
       "      <th>6</th>\n",
       "      <td>0.066667</td>\n",
       "      <td>0.1250</td>\n",
       "      <td>0.142857</td>\n",
       "      <td>0.000000</td>\n",
       "      <td>0.076923</td>\n",
       "      <td>0.618700</td>\n",
       "      <td>0.9875</td>\n",
       "      <td>1.0</td>\n",
       "      <td>1.0</td>\n",
       "      <td>1.0</td>\n",
       "      <td>1.0</td>\n",
       "      <td>1.000000</td>\n",
       "      <td>1.0</td>\n",
       "      <td>0.200495</td>\n",
       "    </tr>\n",
       "    <tr>\n",
       "      <th>7</th>\n",
       "      <td>0.066667</td>\n",
       "      <td>0.1250</td>\n",
       "      <td>0.142857</td>\n",
       "      <td>0.000000</td>\n",
       "      <td>0.076923</td>\n",
       "      <td>0.816412</td>\n",
       "      <td>0.9625</td>\n",
       "      <td>1.0</td>\n",
       "      <td>1.0</td>\n",
       "      <td>1.0</td>\n",
       "      <td>1.0</td>\n",
       "      <td>0.833333</td>\n",
       "      <td>1.0</td>\n",
       "      <td>0.387789</td>\n",
       "    </tr>\n",
       "  </tbody>\n",
       "</table>\n",
       "</div>"
      ],
      "text/plain": [
       "   accommodates  bathrooms  bedrooms      beds  guests_included  \\\n",
       "0      0.200000     0.1250  0.142857  0.000000         0.153846   \n",
       "1      0.200000     0.1250  0.142857  0.000000         0.076923   \n",
       "2      0.666667     0.5625  0.714286  0.428571         0.769231   \n",
       "6      0.066667     0.1250  0.142857  0.000000         0.076923   \n",
       "7      0.066667     0.1250  0.142857  0.000000         0.076923   \n",
       "\n",
       "   number_of_reviews  review_scores_rating  review_scores_accuracy  \\\n",
       "0           0.849040                0.9375                     1.0   \n",
       "1           0.565073                0.9500                     1.0   \n",
       "2           0.429854                0.9625                     1.0   \n",
       "6           0.618700                0.9875                     1.0   \n",
       "7           0.816412                0.9625                     1.0   \n",
       "\n",
       "   review_scores_cleanliness  review_scores_checkin  \\\n",
       "0                        1.0                    1.0   \n",
       "1                        1.0                    1.0   \n",
       "2                        1.0                    1.0   \n",
       "6                        1.0                    1.0   \n",
       "7                        1.0                    1.0   \n",
       "\n",
       "   review_scores_communication  review_scores_location  review_scores_value  \\\n",
       "0                          1.0                0.833333                  1.0   \n",
       "1                          1.0                1.000000                  1.0   \n",
       "2                          1.0                1.000000                  1.0   \n",
       "6                          1.0                1.000000                  1.0   \n",
       "7                          1.0                0.833333                  1.0   \n",
       "\n",
       "   reviews_per_month  \n",
       "0           0.333333  \n",
       "1           0.119637  \n",
       "2           0.092409  \n",
       "6           0.200495  \n",
       "7           0.387789  "
      ]
     },
     "execution_count": 24,
     "metadata": {},
     "output_type": "execute_result"
    }
   ],
   "source": [
    "df_num_scal = pd.DataFrame(data = df_num)\n",
    "scaler = MinMaxScaler()\n",
    "df_num_scal[df_num.columns] = scaler.fit_transform(df_num[df_num.columns])\n",
    "df_num_scal.head()"
   ]
  },
  {
   "cell_type": "code",
   "execution_count": 25,
   "metadata": {},
   "outputs": [],
   "source": [
    "\n",
    "df_wona.drop(num_cols,axis=1,inplace=True)\n",
    "df_wona = pd.merge(df_wona,df_num_scal, left_index=True, right_index=True)"
   ]
  },
  {
   "cell_type": "markdown",
   "metadata": {},
   "source": [
    "#### step 4.1.3 Data types conversion"
   ]
  },
  {
   "cell_type": "code",
   "execution_count": 26,
   "metadata": {},
   "outputs": [
    {
     "name": "stdout",
     "output_type": "stream",
     "text": [
      "host_response_time: \n",
      "['within a few hours' 'within an hour' 'within a day' 'a few days or more']\n",
      "host_response_rate: \n",
      "['96%' '98%' '67%' '100%' '71%' '97%' '60%' '31%' '50%' '70%' '90%' '88%'\n",
      " '80%' '63%' '33%' '99%' '83%' '94%' '58%' '43%' '93%' '92%' '40%' '57%'\n",
      " '75%' '89%' '95%' '81%' '91%' '78%' '38%' '86%' '30%' '56%' '76%' '64%'\n",
      " '82%' '17%' '87%' '25%' '69%' '53%' '65%']\n",
      "host_acceptance_rate: \n",
      "['100%' '0%']\n",
      "host_is_superhost: \n",
      "['f' 't']\n",
      "neighbourhood_group_cleansed: \n",
      "['Queen Anne' 'Ballard' 'Other neighborhoods' 'Cascade' 'Central Area'\n",
      " 'University District' 'Downtown' 'Magnolia' 'West Seattle' 'Interbay'\n",
      " 'Beacon Hill' 'Rainier Valley' 'Delridge' 'Seward Park' 'Northgate'\n",
      " 'Capitol Hill' 'Lake City']\n",
      "property_type: \n",
      "['Apartment' 'House' 'Cabin' 'Condominium' 'Camper/RV' 'Bungalow'\n",
      " 'Townhouse' 'Loft' 'Boat' 'Other' 'Dorm' 'Bed & Breakfast' 'Yurt'\n",
      " 'Chalet' 'Tent' 'Treehouse']\n",
      "room_type: \n",
      "['Entire home/apt' 'Private room' 'Shared room']\n",
      "bed_type: \n",
      "['Real Bed' 'Futon' 'Pull-out Sofa' 'Airbed' 'Couch']\n",
      "price: \n",
      "['$85.00' '$150.00' '$975.00' '$80.00' '$60.00' '$95.00' '$99.00'\n",
      " '$245.00' '$165.00' '$461.00' '$109.00' '$66.00' '$110.00' '$450.00'\n",
      " '$45.00' '$300.00' '$175.00' '$325.00' '$222.00' '$159.00' '$125.00'\n",
      " '$148.00' '$100.00' '$130.00' '$145.00' '$90.00' '$170.00' '$465.00'\n",
      " '$59.00' '$47.00' '$70.00' '$55.00' '$65.00' '$149.00' '$126.00'\n",
      " '$115.00' '$225.00' '$89.00' '$134.00' '$375.00' '$97.00' '$120.00'\n",
      " '$200.00' '$135.00' '$69.00' '$195.00' '$338.00' '$79.00' '$49.00'\n",
      " '$75.00' '$57.00' '$96.00' '$350.00' '$53.00' '$35.00' '$133.00' '$52.00'\n",
      " '$180.00' '$435.00' '$250.00' '$50.00' '$116.00' '$275.00' '$199.00'\n",
      " '$39.00' '$98.00' '$190.00' '$68.00' '$349.00' '$105.00' '$196.00'\n",
      " '$749.00' '$285.00' '$600.00' '$235.00' '$103.00' '$142.00' '$295.00'\n",
      " '$335.00' '$156.00' '$94.00' '$160.00' '$129.00' '$219.00' '$91.00'\n",
      " '$140.00' '$209.00' '$104.00' '$122.00' '$158.00' '$42.00' '$40.00'\n",
      " '$119.00' '$575.00' '$139.00' '$166.00' '$210.00' '$155.00' '$54.00'\n",
      " '$254.00' '$310.00' '$144.00' '$445.00' '$395.00' '$88.00' '$425.00'\n",
      " '$114.00' '$117.00' '$107.00' '$76.00' '$74.00' '$179.00' '$84.00'\n",
      " '$265.00' '$249.00' '$92.00' '$550.00' '$111.00' '$141.00' '$775.00'\n",
      " '$78.00' '$73.00' '$48.00' '$82.00' '$58.00' '$240.00' '$41.00' '$43.00'\n",
      " '$44.00' '$112.00' '$93.00' '$83.00' '$128.00' '$168.00' '$62.00'\n",
      " '$380.00' '$157.00' '$56.00' '$330.00' '$67.00' '$72.00' '$81.00'\n",
      " '$124.00' '$108.00' '$37.00' '$270.00' '$87.00' '$220.00' '$287.00'\n",
      " '$163.00' '$400.00' '$218.00' '$64.00' '$137.00' '$38.00' '$557.00'\n",
      " '$299.00' '$311.00' '$138.00' '$183.00' '$229.00' '$333.00' '$46.00'\n",
      " '$30.00' '$280.00' '$172.00' '$999.00' '$197.00' '$320.00' '$127.00'\n",
      " '$405.00' '$239.00' '$131.00' '$215.00' '$113.00' '$700.00' '$106.00'\n",
      " '$475.00' '$143.00' '$205.00' '$181.00' '$399.00' '$193.00' '$187.00'\n",
      " '$171.00' '$230.00' '$167.00' '$169.00' '$147.00' '$151.00' '$365.00'\n",
      " '$121.00' '$188.00' '$237.00' '$185.00' '$174.00' '$495.00' '$101.00'\n",
      " '$28.00' '$136.00' '$51.00' '$34.00' '$25.00' '$86.00' '$63.00' '$177.00'\n",
      " '$36.00' '$29.00' '$525.00' '$750.00' '$257.00' '$189.00' '$260.00'\n",
      " '$256.00' '$182.00' '$212.00' '$61.00' '$360.00' '$198.00' '$673.00'\n",
      " '$204.00' '$71.00' '$252.00' '$118.00' '$33.00' '$498.00' '$217.00'\n",
      " '$77.00' '$228.00' '$102.00' '$27.00' '$31.00' '$500.00' '$154.00'\n",
      " '$359.00']\n",
      "instant_bookable: \n",
      "['f' 't']\n",
      "cancellation_policy: \n",
      "['moderate' 'strict' 'flexible']\n"
     ]
    }
   ],
   "source": [
    "#check the non-numerical values\n",
    "non_num_cols = df_wona.select_dtypes(include=['object']).columns\n",
    "\n",
    "for col in non_num_cols:\n",
    "    print('{}: \\n{}'.format(col,df_wona[col].unique()))"
   ]
  },
  {
   "cell_type": "markdown",
   "metadata": {},
   "source": [
    "**Observation:** Some features represent percentage, such as response rate and acceptance rate, which should be converted to numerical values. Some features are represented by strings 't' and 'f' instread of boolean variables. \n",
    "**Action:** Converte the feature types."
   ]
  },
  {
   "cell_type": "code",
   "execution_count": null,
   "metadata": {},
   "outputs": [],
   "source": []
  },
  {
   "cell_type": "code",
   "execution_count": 27,
   "metadata": {},
   "outputs": [],
   "source": [
    "def non_num_conv(non_num_cols, df_wona):\n",
    "    \"\"\"\n",
    "    non_num_cols: nonnumerical features names (list)\n",
    "    df_wona: dataframe to be processed\n",
    "    \"\"\"\n",
    "    \n",
    "    rate_cols = [col for col in non_num_cols if 'rate' in col]\n",
    "    for rate_col in rate_cols:\n",
    "        df_wona[rate_col]=df_wona[rate_col].apply(lambda x: float(x.strip('%'))/100)\n",
    "    \n",
    "    tf_cols = [col for col in non_num_cols if 't' in df_wona[col].unique()]\n",
    "\n",
    "    for tf_col in tf_cols:\n",
    "    \n",
    "        df_wona[tf_col]=df_wona[tf_col].apply(lambda x: x == 't')\n",
    "    \n",
    "    df_wona['price'] = df_wona['price'].apply(lambda x: float(x.strip('$')))\n",
    "    return df_wona"
   ]
  },
  {
   "cell_type": "code",
   "execution_count": 28,
   "metadata": {},
   "outputs": [
    {
     "name": "stdout",
     "output_type": "stream",
     "text": [
      "host_response_time: \n",
      "['within a few hours' 'within an hour' 'within a day' 'a few days or more']\n",
      "host_response_rate: \n",
      "[0.96 0.98 0.67 1.   0.71 0.97 0.6  0.31 0.5  0.7  0.9  0.88 0.8  0.63\n",
      " 0.33 0.99 0.83 0.94 0.58 0.43 0.93 0.92 0.4  0.57 0.75 0.89 0.95 0.81\n",
      " 0.91 0.78 0.38 0.86 0.3  0.56 0.76 0.64 0.82 0.17 0.87 0.25 0.69 0.53\n",
      " 0.65]\n",
      "host_acceptance_rate: \n",
      "[1. 0.]\n",
      "host_is_superhost: \n",
      "[False  True]\n",
      "neighbourhood_group_cleansed: \n",
      "['Queen Anne' 'Ballard' 'Other neighborhoods' 'Cascade' 'Central Area'\n",
      " 'University District' 'Downtown' 'Magnolia' 'West Seattle' 'Interbay'\n",
      " 'Beacon Hill' 'Rainier Valley' 'Delridge' 'Seward Park' 'Northgate'\n",
      " 'Capitol Hill' 'Lake City']\n",
      "property_type: \n",
      "['Apartment' 'House' 'Cabin' 'Condominium' 'Camper/RV' 'Bungalow'\n",
      " 'Townhouse' 'Loft' 'Boat' 'Other' 'Dorm' 'Bed & Breakfast' 'Yurt'\n",
      " 'Chalet' 'Tent' 'Treehouse']\n",
      "room_type: \n",
      "['Entire home/apt' 'Private room' 'Shared room']\n",
      "bed_type: \n",
      "['Real Bed' 'Futon' 'Pull-out Sofa' 'Airbed' 'Couch']\n",
      "price: \n",
      "[ 85. 150. 975.  80.  60.  95.  99. 245. 165. 461. 109.  66. 110. 450.\n",
      "  45. 300. 175. 325. 222. 159. 125. 148. 100. 130. 145.  90. 170. 465.\n",
      "  59.  47.  70.  55.  65. 149. 126. 115. 225.  89. 134. 375.  97. 120.\n",
      " 200. 135.  69. 195. 338.  79.  49.  75.  57.  96. 350.  53.  35. 133.\n",
      "  52. 180. 435. 250.  50. 116. 275. 199.  39.  98. 190.  68. 349. 105.\n",
      " 196. 749. 285. 600. 235. 103. 142. 295. 335. 156.  94. 160. 129. 219.\n",
      "  91. 140. 209. 104. 122. 158.  42.  40. 119. 575. 139. 166. 210. 155.\n",
      "  54. 254. 310. 144. 445. 395.  88. 425. 114. 117. 107.  76.  74. 179.\n",
      "  84. 265. 249.  92. 550. 111. 141. 775.  78.  73.  48.  82.  58. 240.\n",
      "  41.  43.  44. 112.  93.  83. 128. 168.  62. 380. 157.  56. 330.  67.\n",
      "  72.  81. 124. 108.  37. 270.  87. 220. 287. 163. 400. 218.  64. 137.\n",
      "  38. 557. 299. 311. 138. 183. 229. 333.  46.  30. 280. 172. 999. 197.\n",
      " 320. 127. 405. 239. 131. 215. 113. 700. 106. 475. 143. 205. 181. 399.\n",
      " 193. 187. 171. 230. 167. 169. 147. 151. 365. 121. 188. 237. 185. 174.\n",
      " 495. 101.  28. 136.  51.  34.  25.  86.  63. 177.  36.  29. 525. 750.\n",
      " 257. 189. 260. 256. 182. 212.  61. 360. 198. 673. 204.  71. 252. 118.\n",
      "  33. 498. 217.  77. 228. 102.  27.  31. 500. 154. 359.]\n",
      "instant_bookable: \n",
      "[False  True]\n",
      "cancellation_policy: \n",
      "['moderate' 'strict' 'flexible']\n"
     ]
    },
    {
     "name": "stderr",
     "output_type": "stream",
     "text": [
      "C:\\ProgramData\\Anaconda3\\lib\\site-packages\\ipykernel_launcher.py:11: FutureWarning: elementwise comparison failed; returning scalar instead, but in the future will perform elementwise comparison\n",
      "  # This is added back by InteractiveShellApp.init_path()\n"
     ]
    }
   ],
   "source": [
    "df_wona = non_num_conv(non_num_cols, df_wona)\n",
    "\n",
    "#check converted results\n",
    "for col in non_num_cols:\n",
    "    print('{}: \\n{}'.format(col,df_wona[col].unique()))"
   ]
  },
  {
   "cell_type": "markdown",
   "metadata": {},
   "source": [
    "**Observation:** There are some categorical features\n",
    "**Action:** Apply one-hot ecoding"
   ]
  },
  {
   "cell_type": "code",
   "execution_count": 29,
   "metadata": {},
   "outputs": [],
   "source": [
    "#update non_num columns list\n",
    "non_num_cols = df_wona.select_dtypes(include=['object']).columns\n",
    "#get dummy variables\n",
    "df_non_num = df_wona[non_num_cols]\n",
    "dummy_vars = pd.get_dummies(df_non_num)\n",
    "df_wona.drop(non_num_cols,axis=1,inplace=True)\n",
    "df_cleaned=pd.merge(df_wona,dummy_vars, left_index=True, right_index=True)\n"
   ]
  },
  {
   "cell_type": "code",
   "execution_count": 30,
   "metadata": {},
   "outputs": [
    {
     "data": {
      "text/html": [
       "<div>\n",
       "<style scoped>\n",
       "    .dataframe tbody tr th:only-of-type {\n",
       "        vertical-align: middle;\n",
       "    }\n",
       "\n",
       "    .dataframe tbody tr th {\n",
       "        vertical-align: top;\n",
       "    }\n",
       "\n",
       "    .dataframe thead th {\n",
       "        text-align: right;\n",
       "    }\n",
       "</style>\n",
       "<table border=\"1\" class=\"dataframe\">\n",
       "  <thead>\n",
       "    <tr style=\"text-align: right;\">\n",
       "      <th></th>\n",
       "      <th>host_response_rate</th>\n",
       "      <th>host_acceptance_rate</th>\n",
       "      <th>host_is_superhost</th>\n",
       "      <th>price</th>\n",
       "      <th>instant_bookable</th>\n",
       "      <th>accommodates</th>\n",
       "      <th>bathrooms</th>\n",
       "      <th>bedrooms</th>\n",
       "      <th>beds</th>\n",
       "      <th>guests_included</th>\n",
       "      <th>...</th>\n",
       "      <th>room_type_Private room</th>\n",
       "      <th>room_type_Shared room</th>\n",
       "      <th>bed_type_Airbed</th>\n",
       "      <th>bed_type_Couch</th>\n",
       "      <th>bed_type_Futon</th>\n",
       "      <th>bed_type_Pull-out Sofa</th>\n",
       "      <th>bed_type_Real Bed</th>\n",
       "      <th>cancellation_policy_flexible</th>\n",
       "      <th>cancellation_policy_moderate</th>\n",
       "      <th>cancellation_policy_strict</th>\n",
       "    </tr>\n",
       "  </thead>\n",
       "  <tbody>\n",
       "    <tr>\n",
       "      <th>0</th>\n",
       "      <td>0.96</td>\n",
       "      <td>1.0</td>\n",
       "      <td>False</td>\n",
       "      <td>85.0</td>\n",
       "      <td>False</td>\n",
       "      <td>0.200000</td>\n",
       "      <td>0.1250</td>\n",
       "      <td>0.142857</td>\n",
       "      <td>0.000000</td>\n",
       "      <td>0.153846</td>\n",
       "      <td>...</td>\n",
       "      <td>0</td>\n",
       "      <td>0</td>\n",
       "      <td>0</td>\n",
       "      <td>0</td>\n",
       "      <td>0</td>\n",
       "      <td>0</td>\n",
       "      <td>1</td>\n",
       "      <td>0</td>\n",
       "      <td>1</td>\n",
       "      <td>0</td>\n",
       "    </tr>\n",
       "    <tr>\n",
       "      <th>1</th>\n",
       "      <td>0.98</td>\n",
       "      <td>1.0</td>\n",
       "      <td>True</td>\n",
       "      <td>150.0</td>\n",
       "      <td>False</td>\n",
       "      <td>0.200000</td>\n",
       "      <td>0.1250</td>\n",
       "      <td>0.142857</td>\n",
       "      <td>0.000000</td>\n",
       "      <td>0.076923</td>\n",
       "      <td>...</td>\n",
       "      <td>0</td>\n",
       "      <td>0</td>\n",
       "      <td>0</td>\n",
       "      <td>0</td>\n",
       "      <td>0</td>\n",
       "      <td>0</td>\n",
       "      <td>1</td>\n",
       "      <td>0</td>\n",
       "      <td>0</td>\n",
       "      <td>1</td>\n",
       "    </tr>\n",
       "    <tr>\n",
       "      <th>2</th>\n",
       "      <td>0.67</td>\n",
       "      <td>1.0</td>\n",
       "      <td>False</td>\n",
       "      <td>975.0</td>\n",
       "      <td>False</td>\n",
       "      <td>0.666667</td>\n",
       "      <td>0.5625</td>\n",
       "      <td>0.714286</td>\n",
       "      <td>0.428571</td>\n",
       "      <td>0.769231</td>\n",
       "      <td>...</td>\n",
       "      <td>0</td>\n",
       "      <td>0</td>\n",
       "      <td>0</td>\n",
       "      <td>0</td>\n",
       "      <td>0</td>\n",
       "      <td>0</td>\n",
       "      <td>1</td>\n",
       "      <td>0</td>\n",
       "      <td>0</td>\n",
       "      <td>1</td>\n",
       "    </tr>\n",
       "    <tr>\n",
       "      <th>6</th>\n",
       "      <td>1.00</td>\n",
       "      <td>1.0</td>\n",
       "      <td>True</td>\n",
       "      <td>80.0</td>\n",
       "      <td>False</td>\n",
       "      <td>0.066667</td>\n",
       "      <td>0.1250</td>\n",
       "      <td>0.142857</td>\n",
       "      <td>0.000000</td>\n",
       "      <td>0.076923</td>\n",
       "      <td>...</td>\n",
       "      <td>1</td>\n",
       "      <td>0</td>\n",
       "      <td>0</td>\n",
       "      <td>0</td>\n",
       "      <td>0</td>\n",
       "      <td>0</td>\n",
       "      <td>1</td>\n",
       "      <td>0</td>\n",
       "      <td>1</td>\n",
       "      <td>0</td>\n",
       "    </tr>\n",
       "    <tr>\n",
       "      <th>7</th>\n",
       "      <td>1.00</td>\n",
       "      <td>1.0</td>\n",
       "      <td>True</td>\n",
       "      <td>60.0</td>\n",
       "      <td>False</td>\n",
       "      <td>0.066667</td>\n",
       "      <td>0.1250</td>\n",
       "      <td>0.142857</td>\n",
       "      <td>0.000000</td>\n",
       "      <td>0.076923</td>\n",
       "      <td>...</td>\n",
       "      <td>1</td>\n",
       "      <td>0</td>\n",
       "      <td>0</td>\n",
       "      <td>0</td>\n",
       "      <td>0</td>\n",
       "      <td>0</td>\n",
       "      <td>1</td>\n",
       "      <td>0</td>\n",
       "      <td>0</td>\n",
       "      <td>1</td>\n",
       "    </tr>\n",
       "  </tbody>\n",
       "</table>\n",
       "<p>5 rows × 67 columns</p>\n",
       "</div>"
      ],
      "text/plain": [
       "   host_response_rate  host_acceptance_rate  host_is_superhost  price  \\\n",
       "0                0.96                   1.0              False   85.0   \n",
       "1                0.98                   1.0               True  150.0   \n",
       "2                0.67                   1.0              False  975.0   \n",
       "6                1.00                   1.0               True   80.0   \n",
       "7                1.00                   1.0               True   60.0   \n",
       "\n",
       "   instant_bookable  accommodates  bathrooms  bedrooms      beds  \\\n",
       "0             False      0.200000     0.1250  0.142857  0.000000   \n",
       "1             False      0.200000     0.1250  0.142857  0.000000   \n",
       "2             False      0.666667     0.5625  0.714286  0.428571   \n",
       "6             False      0.066667     0.1250  0.142857  0.000000   \n",
       "7             False      0.066667     0.1250  0.142857  0.000000   \n",
       "\n",
       "   guests_included             ...              room_type_Private room  \\\n",
       "0         0.153846             ...                                   0   \n",
       "1         0.076923             ...                                   0   \n",
       "2         0.769231             ...                                   0   \n",
       "6         0.076923             ...                                   1   \n",
       "7         0.076923             ...                                   1   \n",
       "\n",
       "   room_type_Shared room  bed_type_Airbed  bed_type_Couch  bed_type_Futon  \\\n",
       "0                      0                0               0               0   \n",
       "1                      0                0               0               0   \n",
       "2                      0                0               0               0   \n",
       "6                      0                0               0               0   \n",
       "7                      0                0               0               0   \n",
       "\n",
       "   bed_type_Pull-out Sofa  bed_type_Real Bed  cancellation_policy_flexible  \\\n",
       "0                       0                  1                             0   \n",
       "1                       0                  1                             0   \n",
       "2                       0                  1                             0   \n",
       "6                       0                  1                             0   \n",
       "7                       0                  1                             0   \n",
       "\n",
       "   cancellation_policy_moderate  cancellation_policy_strict  \n",
       "0                             1                           0  \n",
       "1                             0                           1  \n",
       "2                             0                           1  \n",
       "6                             1                           0  \n",
       "7                             0                           1  \n",
       "\n",
       "[5 rows x 67 columns]"
      ]
     },
     "execution_count": 30,
     "metadata": {},
     "output_type": "execute_result"
    }
   ],
   "source": [
    "# check the converted results\n",
    "df_cleaned.head()"
   ]
  },
  {
   "cell_type": "code",
   "execution_count": 31,
   "metadata": {},
   "outputs": [
    {
     "data": {
      "text/html": [
       "<div>\n",
       "<style scoped>\n",
       "    .dataframe tbody tr th:only-of-type {\n",
       "        vertical-align: middle;\n",
       "    }\n",
       "\n",
       "    .dataframe tbody tr th {\n",
       "        vertical-align: top;\n",
       "    }\n",
       "\n",
       "    .dataframe thead th {\n",
       "        text-align: right;\n",
       "    }\n",
       "</style>\n",
       "<table border=\"1\" class=\"dataframe\">\n",
       "  <thead>\n",
       "    <tr style=\"text-align: right;\">\n",
       "      <th></th>\n",
       "      <th>host_response_rate</th>\n",
       "      <th>host_acceptance_rate</th>\n",
       "      <th>price</th>\n",
       "      <th>accommodates</th>\n",
       "      <th>bathrooms</th>\n",
       "      <th>bedrooms</th>\n",
       "      <th>beds</th>\n",
       "      <th>guests_included</th>\n",
       "      <th>number_of_reviews</th>\n",
       "      <th>review_scores_rating</th>\n",
       "      <th>...</th>\n",
       "      <th>room_type_Private room</th>\n",
       "      <th>room_type_Shared room</th>\n",
       "      <th>bed_type_Airbed</th>\n",
       "      <th>bed_type_Couch</th>\n",
       "      <th>bed_type_Futon</th>\n",
       "      <th>bed_type_Pull-out Sofa</th>\n",
       "      <th>bed_type_Real Bed</th>\n",
       "      <th>cancellation_policy_flexible</th>\n",
       "      <th>cancellation_policy_moderate</th>\n",
       "      <th>cancellation_policy_strict</th>\n",
       "    </tr>\n",
       "  </thead>\n",
       "  <tbody>\n",
       "    <tr>\n",
       "      <th>count</th>\n",
       "      <td>2655.000000</td>\n",
       "      <td>2655.000000</td>\n",
       "      <td>2655.000000</td>\n",
       "      <td>2655.000000</td>\n",
       "      <td>2655.000000</td>\n",
       "      <td>2655.000000</td>\n",
       "      <td>2655.000000</td>\n",
       "      <td>2655.000000</td>\n",
       "      <td>2655.000000</td>\n",
       "      <td>2655.000000</td>\n",
       "      <td>...</td>\n",
       "      <td>2655.000000</td>\n",
       "      <td>2655.000000</td>\n",
       "      <td>2655.000000</td>\n",
       "      <td>2655.000000</td>\n",
       "      <td>2655.000000</td>\n",
       "      <td>2655.000000</td>\n",
       "      <td>2655.000000</td>\n",
       "      <td>2655.000000</td>\n",
       "      <td>2655.000000</td>\n",
       "      <td>2655.000000</td>\n",
       "    </tr>\n",
       "    <tr>\n",
       "      <th>mean</th>\n",
       "      <td>0.953537</td>\n",
       "      <td>0.999623</td>\n",
       "      <td>120.907721</td>\n",
       "      <td>0.159171</td>\n",
       "      <td>0.156121</td>\n",
       "      <td>0.181813</td>\n",
       "      <td>0.053296</td>\n",
       "      <td>0.131798</td>\n",
       "      <td>0.375066</td>\n",
       "      <td>0.932067</td>\n",
       "      <td>...</td>\n",
       "      <td>0.297175</td>\n",
       "      <td>0.033522</td>\n",
       "      <td>0.005650</td>\n",
       "      <td>0.002637</td>\n",
       "      <td>0.017326</td>\n",
       "      <td>0.013183</td>\n",
       "      <td>0.961205</td>\n",
       "      <td>0.235028</td>\n",
       "      <td>0.355932</td>\n",
       "      <td>0.409040</td>\n",
       "    </tr>\n",
       "    <tr>\n",
       "      <th>std</th>\n",
       "      <td>0.108558</td>\n",
       "      <td>0.019407</td>\n",
       "      <td>81.649319</td>\n",
       "      <td>0.133196</td>\n",
       "      <td>0.073813</td>\n",
       "      <td>0.122282</td>\n",
       "      <td>0.083178</td>\n",
       "      <td>0.100574</td>\n",
       "      <td>0.216717</td>\n",
       "      <td>0.080709</td>\n",
       "      <td>...</td>\n",
       "      <td>0.457100</td>\n",
       "      <td>0.180028</td>\n",
       "      <td>0.074966</td>\n",
       "      <td>0.051289</td>\n",
       "      <td>0.130507</td>\n",
       "      <td>0.114078</td>\n",
       "      <td>0.193142</td>\n",
       "      <td>0.424096</td>\n",
       "      <td>0.478885</td>\n",
       "      <td>0.491749</td>\n",
       "    </tr>\n",
       "    <tr>\n",
       "      <th>min</th>\n",
       "      <td>0.170000</td>\n",
       "      <td>0.000000</td>\n",
       "      <td>25.000000</td>\n",
       "      <td>0.000000</td>\n",
       "      <td>0.000000</td>\n",
       "      <td>0.000000</td>\n",
       "      <td>0.000000</td>\n",
       "      <td>0.000000</td>\n",
       "      <td>0.000000</td>\n",
       "      <td>0.000000</td>\n",
       "      <td>...</td>\n",
       "      <td>0.000000</td>\n",
       "      <td>0.000000</td>\n",
       "      <td>0.000000</td>\n",
       "      <td>0.000000</td>\n",
       "      <td>0.000000</td>\n",
       "      <td>0.000000</td>\n",
       "      <td>0.000000</td>\n",
       "      <td>0.000000</td>\n",
       "      <td>0.000000</td>\n",
       "      <td>0.000000</td>\n",
       "    </tr>\n",
       "    <tr>\n",
       "      <th>25%</th>\n",
       "      <td>0.980000</td>\n",
       "      <td>1.000000</td>\n",
       "      <td>70.000000</td>\n",
       "      <td>0.066667</td>\n",
       "      <td>0.125000</td>\n",
       "      <td>0.142857</td>\n",
       "      <td>0.000000</td>\n",
       "      <td>0.076923</td>\n",
       "      <td>0.200837</td>\n",
       "      <td>0.912500</td>\n",
       "      <td>...</td>\n",
       "      <td>0.000000</td>\n",
       "      <td>0.000000</td>\n",
       "      <td>0.000000</td>\n",
       "      <td>0.000000</td>\n",
       "      <td>0.000000</td>\n",
       "      <td>0.000000</td>\n",
       "      <td>1.000000</td>\n",
       "      <td>0.000000</td>\n",
       "      <td>0.000000</td>\n",
       "      <td>0.000000</td>\n",
       "    </tr>\n",
       "    <tr>\n",
       "      <th>50%</th>\n",
       "      <td>1.000000</td>\n",
       "      <td>1.000000</td>\n",
       "      <td>99.000000</td>\n",
       "      <td>0.133333</td>\n",
       "      <td>0.125000</td>\n",
       "      <td>0.142857</td>\n",
       "      <td>0.000000</td>\n",
       "      <td>0.076923</td>\n",
       "      <td>0.380142</td>\n",
       "      <td>0.950000</td>\n",
       "      <td>...</td>\n",
       "      <td>0.000000</td>\n",
       "      <td>0.000000</td>\n",
       "      <td>0.000000</td>\n",
       "      <td>0.000000</td>\n",
       "      <td>0.000000</td>\n",
       "      <td>0.000000</td>\n",
       "      <td>1.000000</td>\n",
       "      <td>0.000000</td>\n",
       "      <td>0.000000</td>\n",
       "      <td>0.000000</td>\n",
       "    </tr>\n",
       "    <tr>\n",
       "      <th>75%</th>\n",
       "      <td>1.000000</td>\n",
       "      <td>1.000000</td>\n",
       "      <td>145.000000</td>\n",
       "      <td>0.200000</td>\n",
       "      <td>0.125000</td>\n",
       "      <td>0.285714</td>\n",
       "      <td>0.071429</td>\n",
       "      <td>0.153846</td>\n",
       "      <td>0.533397</td>\n",
       "      <td>0.987500</td>\n",
       "      <td>...</td>\n",
       "      <td>1.000000</td>\n",
       "      <td>0.000000</td>\n",
       "      <td>0.000000</td>\n",
       "      <td>0.000000</td>\n",
       "      <td>0.000000</td>\n",
       "      <td>0.000000</td>\n",
       "      <td>1.000000</td>\n",
       "      <td>0.000000</td>\n",
       "      <td>1.000000</td>\n",
       "      <td>1.000000</td>\n",
       "    </tr>\n",
       "    <tr>\n",
       "      <th>max</th>\n",
       "      <td>1.000000</td>\n",
       "      <td>1.000000</td>\n",
       "      <td>999.000000</td>\n",
       "      <td>1.000000</td>\n",
       "      <td>1.000000</td>\n",
       "      <td>1.000000</td>\n",
       "      <td>1.000000</td>\n",
       "      <td>1.000000</td>\n",
       "      <td>1.000000</td>\n",
       "      <td>1.000000</td>\n",
       "      <td>...</td>\n",
       "      <td>1.000000</td>\n",
       "      <td>1.000000</td>\n",
       "      <td>1.000000</td>\n",
       "      <td>1.000000</td>\n",
       "      <td>1.000000</td>\n",
       "      <td>1.000000</td>\n",
       "      <td>1.000000</td>\n",
       "      <td>1.000000</td>\n",
       "      <td>1.000000</td>\n",
       "      <td>1.000000</td>\n",
       "    </tr>\n",
       "  </tbody>\n",
       "</table>\n",
       "<p>8 rows × 65 columns</p>\n",
       "</div>"
      ],
      "text/plain": [
       "       host_response_rate  host_acceptance_rate        price  accommodates  \\\n",
       "count         2655.000000           2655.000000  2655.000000   2655.000000   \n",
       "mean             0.953537              0.999623   120.907721      0.159171   \n",
       "std              0.108558              0.019407    81.649319      0.133196   \n",
       "min              0.170000              0.000000    25.000000      0.000000   \n",
       "25%              0.980000              1.000000    70.000000      0.066667   \n",
       "50%              1.000000              1.000000    99.000000      0.133333   \n",
       "75%              1.000000              1.000000   145.000000      0.200000   \n",
       "max              1.000000              1.000000   999.000000      1.000000   \n",
       "\n",
       "         bathrooms     bedrooms         beds  guests_included  \\\n",
       "count  2655.000000  2655.000000  2655.000000      2655.000000   \n",
       "mean      0.156121     0.181813     0.053296         0.131798   \n",
       "std       0.073813     0.122282     0.083178         0.100574   \n",
       "min       0.000000     0.000000     0.000000         0.000000   \n",
       "25%       0.125000     0.142857     0.000000         0.076923   \n",
       "50%       0.125000     0.142857     0.000000         0.076923   \n",
       "75%       0.125000     0.285714     0.071429         0.153846   \n",
       "max       1.000000     1.000000     1.000000         1.000000   \n",
       "\n",
       "       number_of_reviews  review_scores_rating             ...              \\\n",
       "count        2655.000000           2655.000000             ...               \n",
       "mean            0.375066              0.932067             ...               \n",
       "std             0.216717              0.080709             ...               \n",
       "min             0.000000              0.000000             ...               \n",
       "25%             0.200837              0.912500             ...               \n",
       "50%             0.380142              0.950000             ...               \n",
       "75%             0.533397              0.987500             ...               \n",
       "max             1.000000              1.000000             ...               \n",
       "\n",
       "       room_type_Private room  room_type_Shared room  bed_type_Airbed  \\\n",
       "count             2655.000000            2655.000000      2655.000000   \n",
       "mean                 0.297175               0.033522         0.005650   \n",
       "std                  0.457100               0.180028         0.074966   \n",
       "min                  0.000000               0.000000         0.000000   \n",
       "25%                  0.000000               0.000000         0.000000   \n",
       "50%                  0.000000               0.000000         0.000000   \n",
       "75%                  1.000000               0.000000         0.000000   \n",
       "max                  1.000000               1.000000         1.000000   \n",
       "\n",
       "       bed_type_Couch  bed_type_Futon  bed_type_Pull-out Sofa  \\\n",
       "count     2655.000000     2655.000000             2655.000000   \n",
       "mean         0.002637        0.017326                0.013183   \n",
       "std          0.051289        0.130507                0.114078   \n",
       "min          0.000000        0.000000                0.000000   \n",
       "25%          0.000000        0.000000                0.000000   \n",
       "50%          0.000000        0.000000                0.000000   \n",
       "75%          0.000000        0.000000                0.000000   \n",
       "max          1.000000        1.000000                1.000000   \n",
       "\n",
       "       bed_type_Real Bed  cancellation_policy_flexible  \\\n",
       "count        2655.000000                   2655.000000   \n",
       "mean            0.961205                      0.235028   \n",
       "std             0.193142                      0.424096   \n",
       "min             0.000000                      0.000000   \n",
       "25%             1.000000                      0.000000   \n",
       "50%             1.000000                      0.000000   \n",
       "75%             1.000000                      0.000000   \n",
       "max             1.000000                      1.000000   \n",
       "\n",
       "       cancellation_policy_moderate  cancellation_policy_strict  \n",
       "count                   2655.000000                 2655.000000  \n",
       "mean                       0.355932                    0.409040  \n",
       "std                        0.478885                    0.491749  \n",
       "min                        0.000000                    0.000000  \n",
       "25%                        0.000000                    0.000000  \n",
       "50%                        0.000000                    0.000000  \n",
       "75%                        1.000000                    1.000000  \n",
       "max                        1.000000                    1.000000  \n",
       "\n",
       "[8 rows x 65 columns]"
      ]
     },
     "execution_count": 31,
     "metadata": {},
     "output_type": "execute_result"
    }
   ],
   "source": [
    "df_cleaned.describe()"
   ]
  },
  {
   "cell_type": "markdown",
   "metadata": {},
   "source": [
    "## Step 4.2: Price distribution visualization"
   ]
  },
  {
   "cell_type": "code",
   "execution_count": 32,
   "metadata": {
    "scrolled": true
   },
   "outputs": [
    {
     "data": {
      "image/png": "[encoded data removed]",
      "text/plain": [
       "<matplotlib.figure.Figure at 0x1ec3840ea58>"
      ]
     },
     "metadata": {},
     "output_type": "display_data"
    }
   ],
   "source": [
    "df_cleaned['price'].hist(bins=50);\n",
    "plt.ylabel('Count');\n",
    "plt.xlabel('Listing price in $');\n",
    "plt.title('Histogram of listing prices');"
   ]
  },
  {
   "cell_type": "markdown",
   "metadata": {},
   "source": [
    "**Observation:** It is a right skewed distribution. Most prices are within the range from 0 to 200. The most expensive listings almost reach 1000. "
   ]
  },
  {
   "cell_type": "code",
   "execution_count": 33,
   "metadata": {},
   "outputs": [
    {
     "data": {
      "text/plain": [
       "0    150.0\n",
       "dtype: float64"
      ]
     },
     "execution_count": 33,
     "metadata": {},
     "output_type": "execute_result"
    }
   ],
   "source": [
    "# mode of price\n",
    "df_cleaned['price'].mode()"
   ]
  },
  {
   "cell_type": "code",
   "execution_count": 34,
   "metadata": {},
   "outputs": [
    {
     "data": {
      "text/plain": [
       "435.0"
      ]
     },
     "execution_count": 34,
     "metadata": {},
     "output_type": "execute_result"
    }
   ],
   "source": [
    "q_outlier = 0.99\n",
    "df_cleaned['price'].quantile(q_outlier)"
   ]
  },
  {
   "cell_type": "code",
   "execution_count": 35,
   "metadata": {},
   "outputs": [],
   "source": [
    "df_4_reg = df_cleaned[df_cleaned['price']<df_cleaned['price'].quantile(q_outlier)]"
   ]
  },
  {
   "cell_type": "code",
   "execution_count": 36,
   "metadata": {},
   "outputs": [
    {
     "data": {
      "image/png": "[encoded data removed]",
      "text/plain": [
       "<matplotlib.figure.Figure at 0x1ec38003ac8>"
      ]
     },
     "metadata": {},
     "output_type": "display_data"
    }
   ],
   "source": [
    "df_4_reg['price'].hist(bins=50);"
   ]
  },
  {
   "cell_type": "markdown",
   "metadata": {},
   "source": [
    "## Step 4.3: Regression by machine learning\n",
    "In this section, two kinds of regression algorithm are applied, linear regression model and random forest model. The results are evaluated by R2 score and mean square error."
   ]
  },
  {
   "cell_type": "code",
   "execution_count": 37,
   "metadata": {},
   "outputs": [
    {
     "name": "stderr",
     "output_type": "stream",
     "text": [
      "C:\\ProgramData\\Anaconda3\\lib\\site-packages\\ipykernel_launcher.py:2: FutureWarning: reshape is deprecated and will raise in a subsequent release. Please use .values.reshape(...) instead\n",
      "  \n"
     ]
    }
   ],
   "source": [
    "X = df_4_reg.drop('price', axis=1, inplace=False)\n",
    "y = df_4_reg['price'].reshape(-1,1)\n",
    "X_train, X_test, y_train, y_test = train_test_split(X, y, test_size=0.3, random_state=42)"
   ]
  },
  {
   "cell_type": "markdown",
   "metadata": {},
   "source": [
    "### Step 4.3.1 Linear regression model"
   ]
  },
  {
   "cell_type": "code",
   "execution_count": 38,
   "metadata": {},
   "outputs": [],
   "source": [
    "lm_model = LinearRegression()\n",
    "lm_model.fit(X_train,y_train)\n",
    "y_train_pred = lm_model.predict(X_train)\n",
    "y_test_pred = lm_model.predict(X_test)"
   ]
  },
  {
   "cell_type": "code",
   "execution_count": 39,
   "metadata": {},
   "outputs": [
    {
     "name": "stdout",
     "output_type": "stream",
     "text": [
      "MSE train: 1315.307, test: 55733161759341867224268800.000\n",
      "R^2 train: 0.688, test: -12414568999121368121344.000\n"
     ]
    }
   ],
   "source": [
    "print('MSE train: %.3f, test: %.3f' % (\n",
    "        mean_squared_error(y_train, y_train_pred),\n",
    "        mean_squared_error(y_test, y_test_pred)))\n",
    "print('R^2 train: %.3f, test: %.3f' % (\n",
    "        r2_score(y_train, y_train_pred),\n",
    "        r2_score(y_test, y_test_pred)))"
   ]
  },
  {
   "cell_type": "markdown",
   "metadata": {},
   "source": [
    "**Observation:** the linear regression model did not work well. "
   ]
  },
  {
   "cell_type": "markdown",
   "metadata": {},
   "source": [
    "### Step 4.3.2 Random forest model"
   ]
  },
  {
   "cell_type": "code",
   "execution_count": 40,
   "metadata": {},
   "outputs": [
    {
     "name": "stderr",
     "output_type": "stream",
     "text": [
      "C:\\ProgramData\\Anaconda3\\lib\\site-packages\\ipykernel_launcher.py:4: DataConversionWarning: A column-vector y was passed when a 1d array was expected. Please change the shape of y to (n_samples,), for example using ravel().\n",
      "  after removing the cwd from sys.path.\n"
     ]
    }
   ],
   "source": [
    "Rforest = RandomForestRegressor(n_estimators=200, \n",
    "                               random_state=1,\n",
    "                               n_jobs=-1)\n",
    "Rforest.fit(X_train, y_train)\n",
    "y_train_pred = Rforest.predict(X_train).reshape(-1,1)\n",
    "y_test_pred = Rforest.predict(X_test).reshape(-1,1)"
   ]
  },
  {
   "cell_type": "code",
   "execution_count": 41,
   "metadata": {},
   "outputs": [
    {
     "name": "stdout",
     "output_type": "stream",
     "text": [
      "MSE train: 170.646, test: 1546.774\n",
      "R^2 train: 0.959, test: 0.655\n"
     ]
    }
   ],
   "source": [
    "print('MSE train: %.3f, test: %.3f' % (\n",
    "        mean_squared_error(y_train, y_train_pred),\n",
    "        mean_squared_error(y_test, y_test_pred)))\n",
    "print('R^2 train: %.3f, test: %.3f' % (\n",
    "        r2_score(y_train, y_train_pred),\n",
    "        r2_score(y_test, y_test_pred)))"
   ]
  },
  {
   "cell_type": "markdown",
   "metadata": {},
   "source": [
    "### Step 4.3.3 Parameters tuning\n",
    "\n",
    "The random forest model is selected for parameters tuning."
   ]
  },
  {
   "cell_type": "code",
   "execution_count": 42,
   "metadata": {},
   "outputs": [],
   "source": [
    "param_grid={'n_estimators':[50,100,200],\n",
    "            'max_depth':[25,30,35], \n",
    "            'min_samples_leaf':[3,5], \n",
    "            #'max_features':[0.5],\n",
    "            'random_state':[1],\n",
    "            'n_jobs':[-1]}"
   ]
  },
  {
   "cell_type": "code",
   "execution_count": 43,
   "metadata": {},
   "outputs": [],
   "source": [
    "grid_obj = GridSearchCV(RandomForestRegressor(),param_grid, scoring = 'r2')"
   ]
  },
  {
   "cell_type": "code",
   "execution_count": 44,
   "metadata": {},
   "outputs": [
    {
     "name": "stderr",
     "output_type": "stream",
     "text": [
      "C:\\ProgramData\\Anaconda3\\lib\\site-packages\\sklearn\\model_selection\\_validation.py:458: DataConversionWarning: A column-vector y was passed when a 1d array was expected. Please change the shape of y to (n_samples,), for example using ravel().\n",
      "  estimator.fit(X_train, y_train, **fit_params)\n",
      "C:\\ProgramData\\Anaconda3\\lib\\site-packages\\sklearn\\model_selection\\_validation.py:458: DataConversionWarning: A column-vector y was passed when a 1d array was expected. Please change the shape of y to (n_samples,), for example using ravel().\n",
      "  estimator.fit(X_train, y_train, **fit_params)\n",
      "C:\\ProgramData\\Anaconda3\\lib\\site-packages\\sklearn\\model_selection\\_validation.py:458: DataConversionWarning: A column-vector y was passed when a 1d array was expected. Please change the shape of y to (n_samples,), for example using ravel().\n",
      "  estimator.fit(X_train, y_train, **fit_params)\n",
      "C:\\ProgramData\\Anaconda3\\lib\\site-packages\\sklearn\\model_selection\\_validation.py:458: DataConversionWarning: A column-vector y was passed when a 1d array was expected. Please change the shape of y to (n_samples,), for example using ravel().\n",
      "  estimator.fit(X_train, y_train, **fit_params)\n",
      "C:\\ProgramData\\Anaconda3\\lib\\site-packages\\sklearn\\model_selection\\_validation.py:458: DataConversionWarning: A column-vector y was passed when a 1d array was expected. Please change the shape of y to (n_samples,), for example using ravel().\n",
      "  estimator.fit(X_train, y_train, **fit_params)\n",
      "C:\\ProgramData\\Anaconda3\\lib\\site-packages\\sklearn\\model_selection\\_validation.py:458: DataConversionWarning: A column-vector y was passed when a 1d array was expected. Please change the shape of y to (n_samples,), for example using ravel().\n",
      "  estimator.fit(X_train, y_train, **fit_params)\n",
      "C:\\ProgramData\\Anaconda3\\lib\\site-packages\\sklearn\\model_selection\\_validation.py:458: DataConversionWarning: A column-vector y was passed when a 1d array was expected. Please change the shape of y to (n_samples,), for example using ravel().\n",
      "  estimator.fit(X_train, y_train, **fit_params)\n",
      "C:\\ProgramData\\Anaconda3\\lib\\site-packages\\sklearn\\model_selection\\_validation.py:458: DataConversionWarning: A column-vector y was passed when a 1d array was expected. Please change the shape of y to (n_samples,), for example using ravel().\n",
      "  estimator.fit(X_train, y_train, **fit_params)\n",
      "C:\\ProgramData\\Anaconda3\\lib\\site-packages\\sklearn\\model_selection\\_validation.py:458: DataConversionWarning: A column-vector y was passed when a 1d array was expected. Please change the shape of y to (n_samples,), for example using ravel().\n",
      "  estimator.fit(X_train, y_train, **fit_params)\n",
      "C:\\ProgramData\\Anaconda3\\lib\\site-packages\\sklearn\\model_selection\\_validation.py:458: DataConversionWarning: A column-vector y was passed when a 1d array was expected. Please change the shape of y to (n_samples,), for example using ravel().\n",
      "  estimator.fit(X_train, y_train, **fit_params)\n",
      "C:\\ProgramData\\Anaconda3\\lib\\site-packages\\sklearn\\model_selection\\_validation.py:458: DataConversionWarning: A column-vector y was passed when a 1d array was expected. Please change the shape of y to (n_samples,), for example using ravel().\n",
      "  estimator.fit(X_train, y_train, **fit_params)\n",
      "C:\\ProgramData\\Anaconda3\\lib\\site-packages\\sklearn\\model_selection\\_validation.py:458: DataConversionWarning: A column-vector y was passed when a 1d array was expected. Please change the shape of y to (n_samples,), for example using ravel().\n",
      "  estimator.fit(X_train, y_train, **fit_params)\n",
      "C:\\ProgramData\\Anaconda3\\lib\\site-packages\\sklearn\\model_selection\\_validation.py:458: DataConversionWarning: A column-vector y was passed when a 1d array was expected. Please change the shape of y to (n_samples,), for example using ravel().\n",
      "  estimator.fit(X_train, y_train, **fit_params)\n",
      "C:\\ProgramData\\Anaconda3\\lib\\site-packages\\sklearn\\model_selection\\_validation.py:458: DataConversionWarning: A column-vector y was passed when a 1d array was expected. Please change the shape of y to (n_samples,), for example using ravel().\n",
      "  estimator.fit(X_train, y_train, **fit_params)\n",
      "C:\\ProgramData\\Anaconda3\\lib\\site-packages\\sklearn\\model_selection\\_validation.py:458: DataConversionWarning: A column-vector y was passed when a 1d array was expected. Please change the shape of y to (n_samples,), for example using ravel().\n",
      "  estimator.fit(X_train, y_train, **fit_params)\n",
      "C:\\ProgramData\\Anaconda3\\lib\\site-packages\\sklearn\\model_selection\\_validation.py:458: DataConversionWarning: A column-vector y was passed when a 1d array was expected. Please change the shape of y to (n_samples,), for example using ravel().\n",
      "  estimator.fit(X_train, y_train, **fit_params)\n",
      "C:\\ProgramData\\Anaconda3\\lib\\site-packages\\sklearn\\model_selection\\_validation.py:458: DataConversionWarning: A column-vector y was passed when a 1d array was expected. Please change the shape of y to (n_samples,), for example using ravel().\n",
      "  estimator.fit(X_train, y_train, **fit_params)\n",
      "C:\\ProgramData\\Anaconda3\\lib\\site-packages\\sklearn\\model_selection\\_validation.py:458: DataConversionWarning: A column-vector y was passed when a 1d array was expected. Please change the shape of y to (n_samples,), for example using ravel().\n",
      "  estimator.fit(X_train, y_train, **fit_params)\n",
      "C:\\ProgramData\\Anaconda3\\lib\\site-packages\\sklearn\\model_selection\\_validation.py:458: DataConversionWarning: A column-vector y was passed when a 1d array was expected. Please change the shape of y to (n_samples,), for example using ravel().\n",
      "  estimator.fit(X_train, y_train, **fit_params)\n",
      "C:\\ProgramData\\Anaconda3\\lib\\site-packages\\sklearn\\model_selection\\_validation.py:458: DataConversionWarning: A column-vector y was passed when a 1d array was expected. Please change the shape of y to (n_samples,), for example using ravel().\n",
      "  estimator.fit(X_train, y_train, **fit_params)\n",
      "C:\\ProgramData\\Anaconda3\\lib\\site-packages\\sklearn\\model_selection\\_validation.py:458: DataConversionWarning: A column-vector y was passed when a 1d array was expected. Please change the shape of y to (n_samples,), for example using ravel().\n",
      "  estimator.fit(X_train, y_train, **fit_params)\n",
      "C:\\ProgramData\\Anaconda3\\lib\\site-packages\\sklearn\\model_selection\\_validation.py:458: DataConversionWarning: A column-vector y was passed when a 1d array was expected. Please change the shape of y to (n_samples,), for example using ravel().\n",
      "  estimator.fit(X_train, y_train, **fit_params)\n",
      "C:\\ProgramData\\Anaconda3\\lib\\site-packages\\sklearn\\model_selection\\_validation.py:458: DataConversionWarning: A column-vector y was passed when a 1d array was expected. Please change the shape of y to (n_samples,), for example using ravel().\n",
      "  estimator.fit(X_train, y_train, **fit_params)\n",
      "C:\\ProgramData\\Anaconda3\\lib\\site-packages\\sklearn\\model_selection\\_validation.py:458: DataConversionWarning: A column-vector y was passed when a 1d array was expected. Please change the shape of y to (n_samples,), for example using ravel().\n",
      "  estimator.fit(X_train, y_train, **fit_params)\n",
      "C:\\ProgramData\\Anaconda3\\lib\\site-packages\\sklearn\\model_selection\\_validation.py:458: DataConversionWarning: A column-vector y was passed when a 1d array was expected. Please change the shape of y to (n_samples,), for example using ravel().\n",
      "  estimator.fit(X_train, y_train, **fit_params)\n",
      "C:\\ProgramData\\Anaconda3\\lib\\site-packages\\sklearn\\model_selection\\_validation.py:458: DataConversionWarning: A column-vector y was passed when a 1d array was expected. Please change the shape of y to (n_samples,), for example using ravel().\n",
      "  estimator.fit(X_train, y_train, **fit_params)\n",
      "C:\\ProgramData\\Anaconda3\\lib\\site-packages\\sklearn\\model_selection\\_validation.py:458: DataConversionWarning: A column-vector y was passed when a 1d array was expected. Please change the shape of y to (n_samples,), for example using ravel().\n",
      "  estimator.fit(X_train, y_train, **fit_params)\n",
      "C:\\ProgramData\\Anaconda3\\lib\\site-packages\\sklearn\\model_selection\\_validation.py:458: DataConversionWarning: A column-vector y was passed when a 1d array was expected. Please change the shape of y to (n_samples,), for example using ravel().\n",
      "  estimator.fit(X_train, y_train, **fit_params)\n",
      "C:\\ProgramData\\Anaconda3\\lib\\site-packages\\sklearn\\model_selection\\_validation.py:458: DataConversionWarning: A column-vector y was passed when a 1d array was expected. Please change the shape of y to (n_samples,), for example using ravel().\n",
      "  estimator.fit(X_train, y_train, **fit_params)\n"
     ]
    },
    {
     "name": "stderr",
     "output_type": "stream",
     "text": [
      "C:\\ProgramData\\Anaconda3\\lib\\site-packages\\sklearn\\model_selection\\_validation.py:458: DataConversionWarning: A column-vector y was passed when a 1d array was expected. Please change the shape of y to (n_samples,), for example using ravel().\n",
      "  estimator.fit(X_train, y_train, **fit_params)\n",
      "C:\\ProgramData\\Anaconda3\\lib\\site-packages\\sklearn\\model_selection\\_validation.py:458: DataConversionWarning: A column-vector y was passed when a 1d array was expected. Please change the shape of y to (n_samples,), for example using ravel().\n",
      "  estimator.fit(X_train, y_train, **fit_params)\n",
      "C:\\ProgramData\\Anaconda3\\lib\\site-packages\\sklearn\\model_selection\\_validation.py:458: DataConversionWarning: A column-vector y was passed when a 1d array was expected. Please change the shape of y to (n_samples,), for example using ravel().\n",
      "  estimator.fit(X_train, y_train, **fit_params)\n",
      "C:\\ProgramData\\Anaconda3\\lib\\site-packages\\sklearn\\model_selection\\_validation.py:458: DataConversionWarning: A column-vector y was passed when a 1d array was expected. Please change the shape of y to (n_samples,), for example using ravel().\n",
      "  estimator.fit(X_train, y_train, **fit_params)\n",
      "C:\\ProgramData\\Anaconda3\\lib\\site-packages\\sklearn\\model_selection\\_validation.py:458: DataConversionWarning: A column-vector y was passed when a 1d array was expected. Please change the shape of y to (n_samples,), for example using ravel().\n",
      "  estimator.fit(X_train, y_train, **fit_params)\n",
      "C:\\ProgramData\\Anaconda3\\lib\\site-packages\\sklearn\\model_selection\\_validation.py:458: DataConversionWarning: A column-vector y was passed when a 1d array was expected. Please change the shape of y to (n_samples,), for example using ravel().\n",
      "  estimator.fit(X_train, y_train, **fit_params)\n",
      "C:\\ProgramData\\Anaconda3\\lib\\site-packages\\sklearn\\model_selection\\_validation.py:458: DataConversionWarning: A column-vector y was passed when a 1d array was expected. Please change the shape of y to (n_samples,), for example using ravel().\n",
      "  estimator.fit(X_train, y_train, **fit_params)\n",
      "C:\\ProgramData\\Anaconda3\\lib\\site-packages\\sklearn\\model_selection\\_validation.py:458: DataConversionWarning: A column-vector y was passed when a 1d array was expected. Please change the shape of y to (n_samples,), for example using ravel().\n",
      "  estimator.fit(X_train, y_train, **fit_params)\n",
      "C:\\ProgramData\\Anaconda3\\lib\\site-packages\\sklearn\\model_selection\\_validation.py:458: DataConversionWarning: A column-vector y was passed when a 1d array was expected. Please change the shape of y to (n_samples,), for example using ravel().\n",
      "  estimator.fit(X_train, y_train, **fit_params)\n",
      "C:\\ProgramData\\Anaconda3\\lib\\site-packages\\sklearn\\model_selection\\_validation.py:458: DataConversionWarning: A column-vector y was passed when a 1d array was expected. Please change the shape of y to (n_samples,), for example using ravel().\n",
      "  estimator.fit(X_train, y_train, **fit_params)\n",
      "C:\\ProgramData\\Anaconda3\\lib\\site-packages\\sklearn\\model_selection\\_validation.py:458: DataConversionWarning: A column-vector y was passed when a 1d array was expected. Please change the shape of y to (n_samples,), for example using ravel().\n",
      "  estimator.fit(X_train, y_train, **fit_params)\n",
      "C:\\ProgramData\\Anaconda3\\lib\\site-packages\\sklearn\\model_selection\\_validation.py:458: DataConversionWarning: A column-vector y was passed when a 1d array was expected. Please change the shape of y to (n_samples,), for example using ravel().\n",
      "  estimator.fit(X_train, y_train, **fit_params)\n",
      "C:\\ProgramData\\Anaconda3\\lib\\site-packages\\sklearn\\model_selection\\_validation.py:458: DataConversionWarning: A column-vector y was passed when a 1d array was expected. Please change the shape of y to (n_samples,), for example using ravel().\n",
      "  estimator.fit(X_train, y_train, **fit_params)\n",
      "C:\\ProgramData\\Anaconda3\\lib\\site-packages\\sklearn\\model_selection\\_validation.py:458: DataConversionWarning: A column-vector y was passed when a 1d array was expected. Please change the shape of y to (n_samples,), for example using ravel().\n",
      "  estimator.fit(X_train, y_train, **fit_params)\n",
      "C:\\ProgramData\\Anaconda3\\lib\\site-packages\\sklearn\\model_selection\\_validation.py:458: DataConversionWarning: A column-vector y was passed when a 1d array was expected. Please change the shape of y to (n_samples,), for example using ravel().\n",
      "  estimator.fit(X_train, y_train, **fit_params)\n",
      "C:\\ProgramData\\Anaconda3\\lib\\site-packages\\sklearn\\model_selection\\_validation.py:458: DataConversionWarning: A column-vector y was passed when a 1d array was expected. Please change the shape of y to (n_samples,), for example using ravel().\n",
      "  estimator.fit(X_train, y_train, **fit_params)\n",
      "C:\\ProgramData\\Anaconda3\\lib\\site-packages\\sklearn\\model_selection\\_validation.py:458: DataConversionWarning: A column-vector y was passed when a 1d array was expected. Please change the shape of y to (n_samples,), for example using ravel().\n",
      "  estimator.fit(X_train, y_train, **fit_params)\n",
      "C:\\ProgramData\\Anaconda3\\lib\\site-packages\\sklearn\\model_selection\\_validation.py:458: DataConversionWarning: A column-vector y was passed when a 1d array was expected. Please change the shape of y to (n_samples,), for example using ravel().\n",
      "  estimator.fit(X_train, y_train, **fit_params)\n",
      "C:\\ProgramData\\Anaconda3\\lib\\site-packages\\sklearn\\model_selection\\_validation.py:458: DataConversionWarning: A column-vector y was passed when a 1d array was expected. Please change the shape of y to (n_samples,), for example using ravel().\n",
      "  estimator.fit(X_train, y_train, **fit_params)\n",
      "C:\\ProgramData\\Anaconda3\\lib\\site-packages\\sklearn\\model_selection\\_validation.py:458: DataConversionWarning: A column-vector y was passed when a 1d array was expected. Please change the shape of y to (n_samples,), for example using ravel().\n",
      "  estimator.fit(X_train, y_train, **fit_params)\n",
      "C:\\ProgramData\\Anaconda3\\lib\\site-packages\\sklearn\\model_selection\\_validation.py:458: DataConversionWarning: A column-vector y was passed when a 1d array was expected. Please change the shape of y to (n_samples,), for example using ravel().\n",
      "  estimator.fit(X_train, y_train, **fit_params)\n",
      "C:\\ProgramData\\Anaconda3\\lib\\site-packages\\sklearn\\model_selection\\_validation.py:458: DataConversionWarning: A column-vector y was passed when a 1d array was expected. Please change the shape of y to (n_samples,), for example using ravel().\n",
      "  estimator.fit(X_train, y_train, **fit_params)\n",
      "C:\\ProgramData\\Anaconda3\\lib\\site-packages\\sklearn\\model_selection\\_validation.py:458: DataConversionWarning: A column-vector y was passed when a 1d array was expected. Please change the shape of y to (n_samples,), for example using ravel().\n",
      "  estimator.fit(X_train, y_train, **fit_params)\n",
      "C:\\ProgramData\\Anaconda3\\lib\\site-packages\\sklearn\\model_selection\\_validation.py:458: DataConversionWarning: A column-vector y was passed when a 1d array was expected. Please change the shape of y to (n_samples,), for example using ravel().\n",
      "  estimator.fit(X_train, y_train, **fit_params)\n",
      "C:\\ProgramData\\Anaconda3\\lib\\site-packages\\sklearn\\model_selection\\_validation.py:458: DataConversionWarning: A column-vector y was passed when a 1d array was expected. Please change the shape of y to (n_samples,), for example using ravel().\n",
      "  estimator.fit(X_train, y_train, **fit_params)\n",
      "C:\\ProgramData\\Anaconda3\\lib\\site-packages\\sklearn\\model_selection\\_search.py:739: DataConversionWarning: A column-vector y was passed when a 1d array was expected. Please change the shape of y to (n_samples,), for example using ravel().\n",
      "  self.best_estimator_.fit(X, y, **fit_params)\n"
     ]
    }
   ],
   "source": [
    "grid_obj.fit(X_train, y_train)\n",
    "best_r = grid_obj.best_estimator_"
   ]
  },
  {
   "cell_type": "code",
   "execution_count": 45,
   "metadata": {},
   "outputs": [
    {
     "name": "stdout",
     "output_type": "stream",
     "text": [
      "MSE train: 419.018, test: 1507.226\n",
      "R^2 train: 0.900, test: 0.664\n"
     ]
    }
   ],
   "source": [
    "best_predictions = best_r.predict(X_test).reshape(-1,1)\n",
    "y_train_grid = best_r.predict(X_train).reshape(-1,1)\n",
    "print('MSE train: %.3f, test: %.3f' % (\n",
    "        mean_squared_error(y_train, y_train_grid),\n",
    "        mean_squared_error(y_test, best_predictions)))\n",
    "print('R^2 train: %.3f, test: %.3f' % (\n",
    "        r2_score(y_train, y_train_grid),\n",
    "        r2_score(y_test, best_predictions)))\n",
    "    "
   ]
  },
  {
   "cell_type": "code",
   "execution_count": 46,
   "metadata": {},
   "outputs": [
    {
     "name": "stdout",
     "output_type": "stream",
     "text": [
      "RandomForestRegressor(bootstrap=True, criterion='mse', max_depth=30,\n",
      "           max_features='auto', max_leaf_nodes=None,\n",
      "           min_impurity_decrease=0.0, min_impurity_split=None,\n",
      "           min_samples_leaf=3, min_samples_split=2,\n",
      "           min_weight_fraction_leaf=0.0, n_estimators=200, n_jobs=-1,\n",
      "           oob_score=False, random_state=1, verbose=0, warm_start=False)\n"
     ]
    }
   ],
   "source": [
    "print (grid_obj.best_estimator_)"
   ]
  },
  {
   "cell_type": "code",
   "execution_count": 47,
   "metadata": {},
   "outputs": [
    {
     "name": "stdout",
     "output_type": "stream",
     "text": [
      "RandomForestRegressor(bootstrap=True, criterion='mse', max_depth=None,\n",
      "           max_features='auto', max_leaf_nodes=None,\n",
      "           min_impurity_decrease=0.0, min_impurity_split=None,\n",
      "           min_samples_leaf=1, min_samples_split=2,\n",
      "           min_weight_fraction_leaf=0.0, n_estimators=200, n_jobs=-1,\n",
      "           oob_score=False, random_state=1, verbose=0, warm_start=False)\n"
     ]
    }
   ],
   "source": [
    "print (Rforest)"
   ]
  },
  {
   "cell_type": "code",
   "execution_count": 48,
   "metadata": {},
   "outputs": [
    {
     "data": {
      "text/plain": [
       "<matplotlib.legend.Legend at 0x1ec3846f2b0>"
      ]
     },
     "execution_count": 48,
     "metadata": {},
     "output_type": "execute_result"
    },
    {
     "data": {
      "image/png": "[encoded data removed]",
      "text/plain": [
       "<matplotlib.figure.Figure at 0x1ec34bacdd8>"
      ]
     },
     "metadata": {},
     "output_type": "display_data"
    }
   ],
   "source": [
    "plt.scatter(y_train_grid, y_train_grid - y_train,\n",
    "            c='blue', marker='o', label='Training data')\n",
    "plt.scatter(best_predictions,  best_predictions - y_test,\n",
    "            c='lightgreen', marker='s', label='Test data')\n",
    "plt.xlabel('Predicted values')\n",
    "plt.ylabel('Residuals')\n",
    "plt.legend(loc='upper left')"
   ]
  },
  {
   "cell_type": "markdown",
   "metadata": {},
   "source": [
    "### Step 4.3.4 Feature importances\n",
    "In this part, the two-5 importances of features when making predictions are ranked. "
   ]
  },
  {
   "cell_type": "code",
   "execution_count": 49,
   "metadata": {},
   "outputs": [],
   "source": [
    "# feature importances\n",
    "importances = best_r.feature_importances_"
   ]
  },
  {
   "cell_type": "code",
   "execution_count": 50,
   "metadata": {},
   "outputs": [],
   "source": [
    "def feature_plot(importances, X_train):\n",
    "    \"\"\"plot the feature importances of the top-5 most weighted features\n",
    "    importances -- output of feature importances \n",
    "    X_train -- training dataset without label\n",
    "    \"\"\"\n",
    "    \n",
    "    # Display the five most important features\n",
    "    indices = np.argsort(importances)[::-1]\n",
    "    columns = X_train.columns.values[indices[:5]]\n",
    "    values = importances[indices][:5]\n",
    "\n",
    "    # Creat the plot\n",
    "    fig = plt.figure(figsize = (9,6))\n",
    "    plt.title(\"Normalized Weights for First Five Most Predictive Features\", fontsize = 16)\n",
    "    plt.bar(np.arange(5), values, width = 0.6, align=\"center\", color = '#00A000', \\\n",
    "          label = \"Feature Weight\")\n",
    "    plt.bar(np.arange(5) - 0.3, np.cumsum(values), width = 0.2, align = \"center\", color = '#00A0A0', \\\n",
    "          label = \"Cumulative Feature Weight\")\n",
    "    plt.xticks(np.arange(5), columns, rotation=20)\n",
    "    plt.xlim((-0.5, 4.5))\n",
    "    plt.ylabel(\"Weight\", fontsize = 12)\n",
    "    plt.xlabel(\"Feature\", fontsize = 12)\n",
    "    \n",
    "    plt.legend(loc = 'upper left')\n",
    "    plt.tight_layout()\n",
    "    plt.show()  "
   ]
  },
  {
   "cell_type": "code",
   "execution_count": 51,
   "metadata": {},
   "outputs": [
    {
     "data": {
      "image/png": "[encoded data removed]",
      "text/plain": [
       "<matplotlib.figure.Figure at 0x1ec380bcc50>"
      ]
     },
     "metadata": {},
     "output_type": "display_data"
    }
   ],
   "source": [
    "feature_plot(importances, X_train)"
   ]
  },
  {
   "cell_type": "code",
   "execution_count": null,
   "metadata": {},
   "outputs": [],
   "source": []
  }
 ],
 "metadata": {
  "kernelspec": {
   "display_name": "Python 3",
   "language": "python",
   "name": "python3"
  },
  "language_info": {
   "codemirror_mode": {
    "name": "ipython",
    "version": 3
   },
   "file_extension": ".py",
   "mimetype": "text/x-python",
   "name": "python",
   "nbconvert_exporter": "python",
   "pygments_lexer": "ipython3",
   "version": "3.6.4"
  }
 },
 "nbformat": 4,
 "nbformat_minor": 2
}
